{
 "cells": [
  {
   "cell_type": "markdown",
   "metadata": {},
   "source": [
    "# This is Section 2 of CW1\n",
    "\n",
    "The data required to run this notebook (inlcluding the notebook itself) is shared on Moodle-->coursework. The data is saved in a pickle format with the file name \"clean_data_v2.pickle\". You need to save this file on your PC,and then load it using an approprite file path, see the loading data section below.\n",
    "\n",
    "You only need to fill out the parts that you are asked to do so. You can find these parts by looking\n",
    "for word \"Exercise\" using Ctrl+F.\n",
    "\n",
    "You may need to install certain packages in order for the code to run. All the necessary packages are below. \n",
    "\n",
    "Note that this notebook contains a lot of other information which is just for informative purposes, but in order to do the exercises you will need to understand the whole document (or at least most of it). You can try to explore this file.\n",
    "\n",
    "The approximated number of lines requierd for coding for each exercise is provided to you. You should not feel guilty if your lines of codes are longer.\n",
    "\n",
    "Marks for each exercise are shown in brakcets; note that these marks are provisional and they might be changed.\n"
   ]
  },
  {
   "cell_type": "code",
   "execution_count": 1,
   "metadata": {},
   "outputs": [],
   "source": [
    "# Load general utilities\n",
    "# ----------------------\n",
    "import pandas as pd\n",
    "import matplotlib.pyplot as plt\n",
    "import matplotlib.axes as ax\n",
    "import numpy as np\n",
    "import pickle\n",
    "import seaborn as sns\n",
    "from sklearn.model_selection import train_test_split\n",
    "from sklearn.metrics import mean_squared_error\n",
    "from sklearn.linear_model import LinearRegression\n",
    "from sklearn import linear_model\n"
   ]
  },
  {
   "cell_type": "markdown",
   "metadata": {},
   "source": []
  },
  {
   "cell_type": "code",
   "execution_count": 2,
   "metadata": {},
   "outputs": [],
   "source": [
    "#Define a default random seed and an output file\n",
    "\n",
    "default_seed = 1\n",
    "output_file = \"output_sample\"\n"
   ]
  },
  {
   "cell_type": "markdown",
   "metadata": {},
   "source": []
  },
  {
   "cell_type": "code",
   "execution_count": 3,
   "metadata": {},
   "outputs": [],
   "source": [
    "#Loading the data from a compressed file\n",
    "#Note that you could use a different path\n",
    "data, discrete_features, continuous_features = pickle.load( \n",
    "    open( \"clean_data_v2/clean_data_v2.pickle\", \"rb\" ) )\n"
   ]
  },
  {
   "cell_type": "code",
   "execution_count": 4,
   "metadata": {},
   "outputs": [
    {
     "data": {
      "text/plain": [
       "['home_ownership',\n",
       " 'grade',\n",
       " 'emp_length',\n",
       " 'purpose',\n",
       " 'verification_status',\n",
       " 'term']"
      ]
     },
     "execution_count": 4,
     "metadata": {},
     "output_type": "execute_result"
    }
   ],
   "source": [
    "#Showing discrete_features\n",
    "discrete_features"
   ]
  },
  {
   "cell_type": "code",
   "execution_count": 5,
   "metadata": {
    "scrolled": true
   },
   "outputs": [
    {
     "data": {
      "text/html": [
       "<div>\n",
       "<style scoped>\n",
       "    .dataframe tbody tr th:only-of-type {\n",
       "        vertical-align: middle;\n",
       "    }\n",
       "\n",
       "    .dataframe tbody tr th {\n",
       "        vertical-align: top;\n",
       "    }\n",
       "\n",
       "    .dataframe thead th {\n",
       "        text-align: right;\n",
       "    }\n",
       "</style>\n",
       "<table border=\"1\" class=\"dataframe\">\n",
       "  <thead>\n",
       "    <tr style=\"text-align: right;\">\n",
       "      <th></th>\n",
       "      <th>id</th>\n",
       "      <th>loan_amnt</th>\n",
       "      <th>funded_amnt</th>\n",
       "      <th>term</th>\n",
       "      <th>int_rate</th>\n",
       "      <th>installment</th>\n",
       "      <th>grade</th>\n",
       "      <th>emp_length</th>\n",
       "      <th>home_ownership</th>\n",
       "      <th>annual_inc</th>\n",
       "      <th>...</th>\n",
       "      <th>total_pymnt</th>\n",
       "      <th>last_pymnt_d</th>\n",
       "      <th>recoveries</th>\n",
       "      <th>loan_length</th>\n",
       "      <th>term_num</th>\n",
       "      <th>ret_PESS</th>\n",
       "      <th>ret_OPT</th>\n",
       "      <th>ret_INTa</th>\n",
       "      <th>ret_INTb</th>\n",
       "      <th>ret_INTc</th>\n",
       "    </tr>\n",
       "  </thead>\n",
       "  <tbody>\n",
       "    <tr>\n",
       "      <th>0</th>\n",
       "      <td>40390412</td>\n",
       "      <td>5000.0</td>\n",
       "      <td>5000.0</td>\n",
       "      <td>36 months</td>\n",
       "      <td>12.39</td>\n",
       "      <td>167.01</td>\n",
       "      <td>C</td>\n",
       "      <td>&lt; 1 year</td>\n",
       "      <td>RENT</td>\n",
       "      <td>48000.0</td>\n",
       "      <td>...</td>\n",
       "      <td>5475.140000</td>\n",
       "      <td>2015-12-01</td>\n",
       "      <td>0.0</td>\n",
       "      <td>10.973531</td>\n",
       "      <td>36</td>\n",
       "      <td>0.031676</td>\n",
       "      <td>0.103917</td>\n",
       "      <td>0.031155</td>\n",
       "      <td>0.050634</td>\n",
       "      <td>0.086751</td>\n",
       "    </tr>\n",
       "    <tr>\n",
       "      <th>2</th>\n",
       "      <td>40401108</td>\n",
       "      <td>17000.0</td>\n",
       "      <td>17000.0</td>\n",
       "      <td>36 months</td>\n",
       "      <td>12.39</td>\n",
       "      <td>567.82</td>\n",
       "      <td>C</td>\n",
       "      <td>1 year</td>\n",
       "      <td>RENT</td>\n",
       "      <td>53000.0</td>\n",
       "      <td>...</td>\n",
       "      <td>20452.099120</td>\n",
       "      <td>2018-03-01</td>\n",
       "      <td>0.0</td>\n",
       "      <td>37.947391</td>\n",
       "      <td>36</td>\n",
       "      <td>0.067688</td>\n",
       "      <td>0.064215</td>\n",
       "      <td>0.050574</td>\n",
       "      <td>0.066334</td>\n",
       "      <td>0.094950</td>\n",
       "    </tr>\n",
       "    <tr>\n",
       "      <th>3</th>\n",
       "      <td>40501689</td>\n",
       "      <td>9000.0</td>\n",
       "      <td>9000.0</td>\n",
       "      <td>36 months</td>\n",
       "      <td>14.31</td>\n",
       "      <td>308.96</td>\n",
       "      <td>C</td>\n",
       "      <td>6 years</td>\n",
       "      <td>RENT</td>\n",
       "      <td>39000.0</td>\n",
       "      <td>...</td>\n",
       "      <td>9792.560000</td>\n",
       "      <td>2015-11-01</td>\n",
       "      <td>0.0</td>\n",
       "      <td>9.987885</td>\n",
       "      <td>36</td>\n",
       "      <td>0.029354</td>\n",
       "      <td>0.105803</td>\n",
       "      <td>0.029798</td>\n",
       "      <td>0.049345</td>\n",
       "      <td>0.085622</td>\n",
       "    </tr>\n",
       "    <tr>\n",
       "      <th>4</th>\n",
       "      <td>40352737</td>\n",
       "      <td>14000.0</td>\n",
       "      <td>14000.0</td>\n",
       "      <td>36 months</td>\n",
       "      <td>11.99</td>\n",
       "      <td>464.94</td>\n",
       "      <td>B</td>\n",
       "      <td>6 years</td>\n",
       "      <td>RENT</td>\n",
       "      <td>44000.0</td>\n",
       "      <td>...</td>\n",
       "      <td>16592.911300</td>\n",
       "      <td>2018-01-01</td>\n",
       "      <td>0.0</td>\n",
       "      <td>36.008953</td>\n",
       "      <td>36</td>\n",
       "      <td>0.061736</td>\n",
       "      <td>0.061721</td>\n",
       "      <td>0.047093</td>\n",
       "      <td>0.063007</td>\n",
       "      <td>0.091937</td>\n",
       "    </tr>\n",
       "    <tr>\n",
       "      <th>5</th>\n",
       "      <td>40431323</td>\n",
       "      <td>10000.0</td>\n",
       "      <td>10000.0</td>\n",
       "      <td>60 months</td>\n",
       "      <td>19.24</td>\n",
       "      <td>260.73</td>\n",
       "      <td>E</td>\n",
       "      <td>10+ years</td>\n",
       "      <td>MORTGAGE</td>\n",
       "      <td>130000.0</td>\n",
       "      <td>...</td>\n",
       "      <td>15122.079970</td>\n",
       "      <td>2018-10-01</td>\n",
       "      <td>0.0</td>\n",
       "      <td>44.978336</td>\n",
       "      <td>60</td>\n",
       "      <td>0.102442</td>\n",
       "      <td>0.136655</td>\n",
       "      <td>0.113866</td>\n",
       "      <td>0.131897</td>\n",
       "      <td>0.164518</td>\n",
       "    </tr>\n",
       "    <tr>\n",
       "      <th>...</th>\n",
       "      <td>...</td>\n",
       "      <td>...</td>\n",
       "      <td>...</td>\n",
       "      <td>...</td>\n",
       "      <td>...</td>\n",
       "      <td>...</td>\n",
       "      <td>...</td>\n",
       "      <td>...</td>\n",
       "      <td>...</td>\n",
       "      <td>...</td>\n",
       "      <td>...</td>\n",
       "      <td>...</td>\n",
       "      <td>...</td>\n",
       "      <td>...</td>\n",
       "      <td>...</td>\n",
       "      <td>...</td>\n",
       "      <td>...</td>\n",
       "      <td>...</td>\n",
       "      <td>...</td>\n",
       "      <td>...</td>\n",
       "      <td>...</td>\n",
       "    </tr>\n",
       "    <tr>\n",
       "      <th>1048430</th>\n",
       "      <td>139391862</td>\n",
       "      <td>25000.0</td>\n",
       "      <td>25000.0</td>\n",
       "      <td>36 months</td>\n",
       "      <td>19.92</td>\n",
       "      <td>928.08</td>\n",
       "      <td>D</td>\n",
       "      <td>10+ years</td>\n",
       "      <td>RENT</td>\n",
       "      <td>54173.0</td>\n",
       "      <td>...</td>\n",
       "      <td>27257.514580</td>\n",
       "      <td>2019-03-01</td>\n",
       "      <td>0.0</td>\n",
       "      <td>5.946734</td>\n",
       "      <td>36</td>\n",
       "      <td>0.030100</td>\n",
       "      <td>0.182219</td>\n",
       "      <td>0.030735</td>\n",
       "      <td>0.051117</td>\n",
       "      <td>0.089089</td>\n",
       "    </tr>\n",
       "    <tr>\n",
       "      <th>1048442</th>\n",
       "      <td>139388430</td>\n",
       "      <td>15000.0</td>\n",
       "      <td>15000.0</td>\n",
       "      <td>60 months</td>\n",
       "      <td>14.47</td>\n",
       "      <td>352.69</td>\n",
       "      <td>C</td>\n",
       "      <td>10+ years</td>\n",
       "      <td>MORTGAGE</td>\n",
       "      <td>115000.0</td>\n",
       "      <td>...</td>\n",
       "      <td>15879.803690</td>\n",
       "      <td>2019-02-01</td>\n",
       "      <td>0.0</td>\n",
       "      <td>5.026797</td>\n",
       "      <td>60</td>\n",
       "      <td>0.011731</td>\n",
       "      <td>0.140018</td>\n",
       "      <td>0.024141</td>\n",
       "      <td>0.044108</td>\n",
       "      <td>0.081340</td>\n",
       "    </tr>\n",
       "    <tr>\n",
       "      <th>1048471</th>\n",
       "      <td>139248973</td>\n",
       "      <td>10000.0</td>\n",
       "      <td>10000.0</td>\n",
       "      <td>36 months</td>\n",
       "      <td>20.89</td>\n",
       "      <td>376.19</td>\n",
       "      <td>D</td>\n",
       "      <td>5 years</td>\n",
       "      <td>RENT</td>\n",
       "      <td>75000.0</td>\n",
       "      <td>...</td>\n",
       "      <td>10854.179110</td>\n",
       "      <td>2019-02-01</td>\n",
       "      <td>0.0</td>\n",
       "      <td>5.026797</td>\n",
       "      <td>36</td>\n",
       "      <td>0.028473</td>\n",
       "      <td>0.203910</td>\n",
       "      <td>0.029807</td>\n",
       "      <td>0.050279</td>\n",
       "      <td>0.088453</td>\n",
       "    </tr>\n",
       "    <tr>\n",
       "      <th>1048488</th>\n",
       "      <td>138986745</td>\n",
       "      <td>12800.0</td>\n",
       "      <td>12800.0</td>\n",
       "      <td>36 months</td>\n",
       "      <td>24.37</td>\n",
       "      <td>504.68</td>\n",
       "      <td>E</td>\n",
       "      <td>6 years</td>\n",
       "      <td>RENT</td>\n",
       "      <td>60000.0</td>\n",
       "      <td>...</td>\n",
       "      <td>13033.951780</td>\n",
       "      <td>2018-10-01</td>\n",
       "      <td>0.0</td>\n",
       "      <td>0.985647</td>\n",
       "      <td>36</td>\n",
       "      <td>0.006092</td>\n",
       "      <td>0.222524</td>\n",
       "      <td>0.016028</td>\n",
       "      <td>0.035984</td>\n",
       "      <td>0.073344</td>\n",
       "    </tr>\n",
       "    <tr>\n",
       "      <th>1048541</th>\n",
       "      <td>139015430</td>\n",
       "      <td>5000.0</td>\n",
       "      <td>5000.0</td>\n",
       "      <td>36 months</td>\n",
       "      <td>15.02</td>\n",
       "      <td>173.38</td>\n",
       "      <td>C</td>\n",
       "      <td>7 years</td>\n",
       "      <td>RENT</td>\n",
       "      <td>62000.0</td>\n",
       "      <td>...</td>\n",
       "      <td>5247.261369</td>\n",
       "      <td>2019-01-01</td>\n",
       "      <td>0.0</td>\n",
       "      <td>4.008296</td>\n",
       "      <td>36</td>\n",
       "      <td>0.016484</td>\n",
       "      <td>0.148050</td>\n",
       "      <td>0.022306</td>\n",
       "      <td>0.042294</td>\n",
       "      <td>0.079601</td>\n",
       "    </tr>\n",
       "  </tbody>\n",
       "</table>\n",
       "<p>605374 rows × 33 columns</p>\n",
       "</div>"
      ],
      "text/plain": [
       "                id  loan_amnt  funded_amnt        term  int_rate  installment  \\\n",
       "0         40390412     5000.0       5000.0   36 months     12.39       167.01   \n",
       "2         40401108    17000.0      17000.0   36 months     12.39       567.82   \n",
       "3         40501689     9000.0       9000.0   36 months     14.31       308.96   \n",
       "4         40352737    14000.0      14000.0   36 months     11.99       464.94   \n",
       "5         40431323    10000.0      10000.0   60 months     19.24       260.73   \n",
       "...            ...        ...          ...         ...       ...          ...   \n",
       "1048430  139391862    25000.0      25000.0   36 months     19.92       928.08   \n",
       "1048442  139388430    15000.0      15000.0   60 months     14.47       352.69   \n",
       "1048471  139248973    10000.0      10000.0   36 months     20.89       376.19   \n",
       "1048488  138986745    12800.0      12800.0   36 months     24.37       504.68   \n",
       "1048541  139015430     5000.0       5000.0   36 months     15.02       173.38   \n",
       "\n",
       "        grade emp_length home_ownership  annual_inc  ...   total_pymnt  \\\n",
       "0           C   < 1 year           RENT     48000.0  ...   5475.140000   \n",
       "2           C     1 year           RENT     53000.0  ...  20452.099120   \n",
       "3           C    6 years           RENT     39000.0  ...   9792.560000   \n",
       "4           B    6 years           RENT     44000.0  ...  16592.911300   \n",
       "5           E  10+ years       MORTGAGE    130000.0  ...  15122.079970   \n",
       "...       ...        ...            ...         ...  ...           ...   \n",
       "1048430     D  10+ years           RENT     54173.0  ...  27257.514580   \n",
       "1048442     C  10+ years       MORTGAGE    115000.0  ...  15879.803690   \n",
       "1048471     D    5 years           RENT     75000.0  ...  10854.179110   \n",
       "1048488     E    6 years           RENT     60000.0  ...  13033.951780   \n",
       "1048541     C    7 years           RENT     62000.0  ...   5247.261369   \n",
       "\n",
       "        last_pymnt_d recoveries loan_length  term_num  ret_PESS   ret_OPT  \\\n",
       "0         2015-12-01        0.0   10.973531        36  0.031676  0.103917   \n",
       "2         2018-03-01        0.0   37.947391        36  0.067688  0.064215   \n",
       "3         2015-11-01        0.0    9.987885        36  0.029354  0.105803   \n",
       "4         2018-01-01        0.0   36.008953        36  0.061736  0.061721   \n",
       "5         2018-10-01        0.0   44.978336        60  0.102442  0.136655   \n",
       "...              ...        ...         ...       ...       ...       ...   \n",
       "1048430   2019-03-01        0.0    5.946734        36  0.030100  0.182219   \n",
       "1048442   2019-02-01        0.0    5.026797        60  0.011731  0.140018   \n",
       "1048471   2019-02-01        0.0    5.026797        36  0.028473  0.203910   \n",
       "1048488   2018-10-01        0.0    0.985647        36  0.006092  0.222524   \n",
       "1048541   2019-01-01        0.0    4.008296        36  0.016484  0.148050   \n",
       "\n",
       "         ret_INTa  ret_INTb  ret_INTc  \n",
       "0        0.031155  0.050634  0.086751  \n",
       "2        0.050574  0.066334  0.094950  \n",
       "3        0.029798  0.049345  0.085622  \n",
       "4        0.047093  0.063007  0.091937  \n",
       "5        0.113866  0.131897  0.164518  \n",
       "...           ...       ...       ...  \n",
       "1048430  0.030735  0.051117  0.089089  \n",
       "1048442  0.024141  0.044108  0.081340  \n",
       "1048471  0.029807  0.050279  0.088453  \n",
       "1048488  0.016028  0.035984  0.073344  \n",
       "1048541  0.022306  0.042294  0.079601  \n",
       "\n",
       "[605374 rows x 33 columns]"
      ]
     },
     "execution_count": 5,
     "metadata": {},
     "output_type": "execute_result"
    }
   ],
   "source": [
    "#Let us see how data looks like\n",
    "data.head()\n",
    "#data[data.recoveries >0]\n",
    "data"
   ]
  },
  {
   "cell_type": "markdown",
   "metadata": {},
   "source": [
    "Different types of interest rate definitions are defined here. Five types of returns are defiend: these are called return_1, return_2 return_3a, return_3b, return_3c; see the following blocks."
   ]
  },
  {
   "cell_type": "code",
   "execution_count": 6,
   "metadata": {},
   "outputs": [],
   "source": [
    "#Return Number 1\n",
    "data['return_1'] = ( (data.total_pymnt - data.funded_amnt) \n",
    "                                            / data.funded_amnt ) * (12 / data['term_num'])\n",
    "\n",
    "\n",
    "#Return Number 2\n",
    "# Assuming that if a loan gives a positive return, we can immediately find a similar loan to invest in; if the loan \n",
    "# takes a loss, we use modify the return based on the return_1\n",
    "\n",
    "\n",
    "data['return_2'] = ( (data.total_pymnt - data.funded_amnt)\n",
    "                                            / data.funded_amnt ) * (12 / data['loan_length'])\n",
    "data.loc[data.return_2 < 0,'return_2'] = data.return_1[data.return_2 < 0]\n"
   ]
  },
  {
   "cell_type": "markdown",
   "metadata": {},
   "source": [
    "# Exercise 1 --- 6 or 7 lines of coding - [5/15]"
   ]
  },
  {
   "cell_type": "markdown",
   "metadata": {},
   "source": [
    "$$\n",
    "\\begin{aligned}\n",
    "\\text{coupon} = & \\frac{X_2 -\\text{recoveries} }{m}\n",
    "\\\\\n",
    "S = & ( \\text{coupon}\\frac{(1+i)^m-1}{i} + \\text{recoveries}) (1+i)^{T-m}\n",
    "\\\\\n",
    "\n",
    "\\text{return} = & \\frac{S-X_1}{X_1} \\frac{12}{T}\n",
    "\\end{aligned}\n",
    "$$"
   ]
  },
  {
   "cell_type": "code",
   "execution_count": 7,
   "metadata": {},
   "outputs": [],
   "source": [
    "#Return Number 3: Write down a method that calculate returns under the following assumptions:\n",
    "#1) The coupons (repaymetns of the loans) are immediately reinvested with the initial prime rate i effective per month.\n",
    "#2) The total paid back amount (indicated by feature \"total_pymnt\"), is paid back at level (equal) monthly payments during\n",
    "#   the duration of the loan (indicated by the feature \"loan_length\"). Note that in this dataset the total payment includes\n",
    "#   the recovery (indicated by the feature \"recoveries\").\n",
    "#3) The monthly payments are re-invested at the prime rate i until T months from the start.\n",
    "#4) In your code, briefly  point out (through wirting short comments) where each one of the above assumptions is used.\n",
    "#5) Your function takes the three inputs, the data, T, and i; and it must return the annualized return.\n",
    "#\n",
    "#\n",
    "#----------------------------------\n",
    "#Write your code bellow\n",
    "def ret_method_3(data, T, i):\n",
    "    t = data['loan_length'].values\n",
    "    m = data ['loan_length']\n",
    "    #m = data['loan_length'].apply(int)\n",
    "    coupons = (data['total_pymnt'] + data['recoveries']*-1 ) /m\n",
    "    initial_investment = data['funded_amnt'].values\n",
    "\n",
    "    # if T >= m\n",
    "    S1 = (coupons * ((1+i)**m - 1) / (i) + data['recoveries']  )* (1+i) ** (T-m) \n",
    "    \n",
    "    # if T< m\n",
    "    S2 = coupons * ((1+i)**m - 1)*(1+i)**( np.int_(m - T) ) / (i) + coupons * np.int_(m - T) + data['recoveries'] \n",
    "\n",
    "    # if-condition; when true; when false\n",
    "    S = np.where(T>t, S1, S2)  \n",
    "    return( (S - initial_investment) / initial_investment * 12/T )\n",
    "\n",
    "#--------------------------------------"
   ]
  },
  {
   "cell_type": "code",
   "execution_count": 8,
   "metadata": {},
   "outputs": [
    {
     "data": {
      "text/html": [
       "<div>\n",
       "<style scoped>\n",
       "    .dataframe tbody tr th:only-of-type {\n",
       "        vertical-align: middle;\n",
       "    }\n",
       "\n",
       "    .dataframe tbody tr th {\n",
       "        vertical-align: top;\n",
       "    }\n",
       "\n",
       "    .dataframe thead th {\n",
       "        text-align: right;\n",
       "    }\n",
       "</style>\n",
       "<table border=\"1\" class=\"dataframe\">\n",
       "  <thead>\n",
       "    <tr style=\"text-align: right;\">\n",
       "      <th></th>\n",
       "      <th>return_3a</th>\n",
       "      <th>return_3b</th>\n",
       "      <th>return_3c</th>\n",
       "      <th>ret_INTa</th>\n",
       "      <th>ret_INTb</th>\n",
       "      <th>ret_INTc</th>\n",
       "    </tr>\n",
       "  </thead>\n",
       "  <tbody>\n",
       "    <tr>\n",
       "      <th>10</th>\n",
       "      <td>-0.116715</td>\n",
       "      <td>-0.109724</td>\n",
       "      <td>-0.096768</td>\n",
       "      <td>-0.116715</td>\n",
       "      <td>-0.109724</td>\n",
       "      <td>-0.096768</td>\n",
       "    </tr>\n",
       "    <tr>\n",
       "      <th>14</th>\n",
       "      <td>-0.082697</td>\n",
       "      <td>-0.073645</td>\n",
       "      <td>-0.056994</td>\n",
       "      <td>-0.082697</td>\n",
       "      <td>-0.073645</td>\n",
       "      <td>-0.056994</td>\n",
       "    </tr>\n",
       "    <tr>\n",
       "      <th>15</th>\n",
       "      <td>-0.147119</td>\n",
       "      <td>-0.142379</td>\n",
       "      <td>-0.133535</td>\n",
       "      <td>-0.147119</td>\n",
       "      <td>-0.142379</td>\n",
       "      <td>-0.133535</td>\n",
       "    </tr>\n",
       "    <tr>\n",
       "      <th>32</th>\n",
       "      <td>-0.040421</td>\n",
       "      <td>-0.028789</td>\n",
       "      <td>-0.007484</td>\n",
       "      <td>-0.040421</td>\n",
       "      <td>-0.028789</td>\n",
       "      <td>-0.007484</td>\n",
       "    </tr>\n",
       "    <tr>\n",
       "      <th>39</th>\n",
       "      <td>-0.052754</td>\n",
       "      <td>-0.041686</td>\n",
       "      <td>-0.021373</td>\n",
       "      <td>-0.052754</td>\n",
       "      <td>-0.041686</td>\n",
       "      <td>-0.021373</td>\n",
       "    </tr>\n",
       "    <tr>\n",
       "      <th>...</th>\n",
       "      <td>...</td>\n",
       "      <td>...</td>\n",
       "      <td>...</td>\n",
       "      <td>...</td>\n",
       "      <td>...</td>\n",
       "      <td>...</td>\n",
       "    </tr>\n",
       "    <tr>\n",
       "      <th>951278</th>\n",
       "      <td>-0.163300</td>\n",
       "      <td>-0.159911</td>\n",
       "      <td>-0.153567</td>\n",
       "      <td>-0.163300</td>\n",
       "      <td>-0.159911</td>\n",
       "      <td>-0.153567</td>\n",
       "    </tr>\n",
       "    <tr>\n",
       "      <th>959222</th>\n",
       "      <td>-0.164428</td>\n",
       "      <td>-0.161143</td>\n",
       "      <td>-0.154994</td>\n",
       "      <td>-0.164428</td>\n",
       "      <td>-0.161143</td>\n",
       "      <td>-0.154994</td>\n",
       "    </tr>\n",
       "    <tr>\n",
       "      <th>976924</th>\n",
       "      <td>-0.148939</td>\n",
       "      <td>-0.144224</td>\n",
       "      <td>-0.135398</td>\n",
       "      <td>-0.148939</td>\n",
       "      <td>-0.144224</td>\n",
       "      <td>-0.135398</td>\n",
       "    </tr>\n",
       "    <tr>\n",
       "      <th>1002905</th>\n",
       "      <td>-0.199405</td>\n",
       "      <td>-0.199350</td>\n",
       "      <td>-0.199249</td>\n",
       "      <td>-0.199405</td>\n",
       "      <td>-0.199350</td>\n",
       "      <td>-0.199249</td>\n",
       "    </tr>\n",
       "    <tr>\n",
       "      <th>1005375</th>\n",
       "      <td>-0.199425</td>\n",
       "      <td>-0.199375</td>\n",
       "      <td>-0.199281</td>\n",
       "      <td>-0.199425</td>\n",
       "      <td>-0.199375</td>\n",
       "      <td>-0.199281</td>\n",
       "    </tr>\n",
       "  </tbody>\n",
       "</table>\n",
       "<p>82361 rows × 6 columns</p>\n",
       "</div>"
      ],
      "text/plain": [
       "         return_3a  return_3b  return_3c  ret_INTa  ret_INTb  ret_INTc\n",
       "10       -0.116715  -0.109724  -0.096768 -0.116715 -0.109724 -0.096768\n",
       "14       -0.082697  -0.073645  -0.056994 -0.082697 -0.073645 -0.056994\n",
       "15       -0.147119  -0.142379  -0.133535 -0.147119 -0.142379 -0.133535\n",
       "32       -0.040421  -0.028789  -0.007484 -0.040421 -0.028789 -0.007484\n",
       "39       -0.052754  -0.041686  -0.021373 -0.052754 -0.041686 -0.021373\n",
       "...            ...        ...        ...       ...       ...       ...\n",
       "951278   -0.163300  -0.159911  -0.153567 -0.163300 -0.159911 -0.153567\n",
       "959222   -0.164428  -0.161143  -0.154994 -0.164428 -0.161143 -0.154994\n",
       "976924   -0.148939  -0.144224  -0.135398 -0.148939 -0.144224 -0.135398\n",
       "1002905  -0.199405  -0.199350  -0.199249 -0.199405 -0.199350 -0.199249\n",
       "1005375  -0.199425  -0.199375  -0.199281 -0.199425 -0.199375 -0.199281\n",
       "\n",
       "[82361 rows x 6 columns]"
      ]
     },
     "execution_count": 8,
     "metadata": {},
     "output_type": "execute_result"
    }
   ],
   "source": [
    "#Calculating three different types of returns based on the ret_method_3\n",
    "data['return_3a'] = ret_method_3(data, 5*12, 0.001)\n",
    "data['return_3b'] = ret_method_3(data, 5*12, 0.0025)\n",
    "data['return_3c'] = ret_method_3(data, 5*12, 0.005)\n",
    "\n",
    "\n",
    "# For testing \n",
    "data[['return_3a', 'return_3b', 'return_3c', 'ret_INTa', 'ret_INTb', 'ret_INTc']][data.recoveries>0]"
   ]
  },
  {
   "cell_type": "code",
   "execution_count": 9,
   "metadata": {},
   "outputs": [],
   "source": [
    "#putting all return names in one list\n",
    "return_cols=[\"return_1\",\"return_2\",\"return_3a\",\"return_3b\",\"return_3c\"]"
   ]
  },
  {
   "cell_type": "code",
   "execution_count": 10,
   "metadata": {},
   "outputs": [
    {
     "name": "stdout",
     "output_type": "stream",
     "text": [
      "0.04580137736406662 0.1076282631505881\n"
     ]
    }
   ],
   "source": [
    "#Calculate mean, standard deviation of returns; for instance:\n",
    "print(data[\"return_2\"].mean(), data[\"return_2\"].std())\n"
   ]
  },
  {
   "cell_type": "code",
   "execution_count": 11,
   "metadata": {},
   "outputs": [
    {
     "data": {
      "text/html": [
       "<div>\n",
       "<style scoped>\n",
       "    .dataframe tbody tr th:only-of-type {\n",
       "        vertical-align: middle;\n",
       "    }\n",
       "\n",
       "    .dataframe tbody tr th {\n",
       "        vertical-align: top;\n",
       "    }\n",
       "\n",
       "    .dataframe thead th {\n",
       "        text-align: right;\n",
       "    }\n",
       "</style>\n",
       "<table border=\"1\" class=\"dataframe\">\n",
       "  <thead>\n",
       "    <tr style=\"text-align: right;\">\n",
       "      <th></th>\n",
       "      <th>loan_amnt</th>\n",
       "      <th>funded_amnt</th>\n",
       "      <th>installment</th>\n",
       "      <th>annual_inc</th>\n",
       "      <th>dti</th>\n",
       "      <th>revol_bal</th>\n",
       "      <th>delinq_2yrs</th>\n",
       "      <th>open_acc</th>\n",
       "      <th>pub_rec</th>\n",
       "      <th>fico_range_high</th>\n",
       "      <th>fico_range_low</th>\n",
       "      <th>int_rate</th>\n",
       "      <th>revol_util</th>\n",
       "    </tr>\n",
       "  </thead>\n",
       "  <tbody>\n",
       "    <tr>\n",
       "      <th>loan_amnt</th>\n",
       "      <td>1.000000</td>\n",
       "      <td>1.000000</td>\n",
       "      <td>0.952850</td>\n",
       "      <td>0.310914</td>\n",
       "      <td>0.020821</td>\n",
       "      <td>0.318580</td>\n",
       "      <td>-0.008796</td>\n",
       "      <td>0.182188</td>\n",
       "      <td>-0.070506</td>\n",
       "      <td>0.113521</td>\n",
       "      <td>0.113521</td>\n",
       "      <td>0.123118</td>\n",
       "      <td>0.112286</td>\n",
       "    </tr>\n",
       "    <tr>\n",
       "      <th>funded_amnt</th>\n",
       "      <td>1.000000</td>\n",
       "      <td>1.000000</td>\n",
       "      <td>0.952850</td>\n",
       "      <td>0.310914</td>\n",
       "      <td>0.020821</td>\n",
       "      <td>0.318580</td>\n",
       "      <td>-0.008796</td>\n",
       "      <td>0.182188</td>\n",
       "      <td>-0.070506</td>\n",
       "      <td>0.113521</td>\n",
       "      <td>0.113521</td>\n",
       "      <td>0.123118</td>\n",
       "      <td>0.112286</td>\n",
       "    </tr>\n",
       "    <tr>\n",
       "      <th>installment</th>\n",
       "      <td>0.952850</td>\n",
       "      <td>0.952850</td>\n",
       "      <td>1.000000</td>\n",
       "      <td>0.300108</td>\n",
       "      <td>0.024823</td>\n",
       "      <td>0.305464</td>\n",
       "      <td>0.000127</td>\n",
       "      <td>0.169690</td>\n",
       "      <td>-0.058493</td>\n",
       "      <td>0.067724</td>\n",
       "      <td>0.067725</td>\n",
       "      <td>0.139536</td>\n",
       "      <td>0.126779</td>\n",
       "    </tr>\n",
       "    <tr>\n",
       "      <th>annual_inc</th>\n",
       "      <td>0.310914</td>\n",
       "      <td>0.310914</td>\n",
       "      <td>0.300108</td>\n",
       "      <td>1.000000</td>\n",
       "      <td>-0.144491</td>\n",
       "      <td>0.281997</td>\n",
       "      <td>0.035928</td>\n",
       "      <td>0.130390</td>\n",
       "      <td>-0.004934</td>\n",
       "      <td>0.074356</td>\n",
       "      <td>0.074356</td>\n",
       "      <td>-0.086107</td>\n",
       "      <td>0.037410</td>\n",
       "    </tr>\n",
       "    <tr>\n",
       "      <th>dti</th>\n",
       "      <td>0.020821</td>\n",
       "      <td>0.020821</td>\n",
       "      <td>0.024823</td>\n",
       "      <td>-0.144491</td>\n",
       "      <td>1.000000</td>\n",
       "      <td>0.102385</td>\n",
       "      <td>-0.012619</td>\n",
       "      <td>0.213876</td>\n",
       "      <td>-0.037522</td>\n",
       "      <td>-0.050331</td>\n",
       "      <td>-0.050328</td>\n",
       "      <td>0.166301</td>\n",
       "      <td>0.141012</td>\n",
       "    </tr>\n",
       "    <tr>\n",
       "      <th>revol_bal</th>\n",
       "      <td>0.318580</td>\n",
       "      <td>0.318580</td>\n",
       "      <td>0.305464</td>\n",
       "      <td>0.281997</td>\n",
       "      <td>0.102385</td>\n",
       "      <td>1.000000</td>\n",
       "      <td>-0.029442</td>\n",
       "      <td>0.222358</td>\n",
       "      <td>-0.096787</td>\n",
       "      <td>0.030348</td>\n",
       "      <td>0.030350</td>\n",
       "      <td>-0.044143</td>\n",
       "      <td>0.242095</td>\n",
       "    </tr>\n",
       "    <tr>\n",
       "      <th>delinq_2yrs</th>\n",
       "      <td>-0.008796</td>\n",
       "      <td>-0.008796</td>\n",
       "      <td>0.000127</td>\n",
       "      <td>0.035928</td>\n",
       "      <td>-0.012619</td>\n",
       "      <td>-0.029442</td>\n",
       "      <td>1.000000</td>\n",
       "      <td>0.046739</td>\n",
       "      <td>-0.021757</td>\n",
       "      <td>-0.171641</td>\n",
       "      <td>-0.171643</td>\n",
       "      <td>0.042665</td>\n",
       "      <td>-0.008660</td>\n",
       "    </tr>\n",
       "    <tr>\n",
       "      <th>open_acc</th>\n",
       "      <td>0.182188</td>\n",
       "      <td>0.182188</td>\n",
       "      <td>0.169690</td>\n",
       "      <td>0.130390</td>\n",
       "      <td>0.213876</td>\n",
       "      <td>0.222358</td>\n",
       "      <td>0.046739</td>\n",
       "      <td>1.000000</td>\n",
       "      <td>-0.022263</td>\n",
       "      <td>0.031051</td>\n",
       "      <td>0.031053</td>\n",
       "      <td>-0.005516</td>\n",
       "      <td>-0.143820</td>\n",
       "    </tr>\n",
       "    <tr>\n",
       "      <th>pub_rec</th>\n",
       "      <td>-0.070506</td>\n",
       "      <td>-0.070506</td>\n",
       "      <td>-0.058493</td>\n",
       "      <td>-0.004934</td>\n",
       "      <td>-0.037522</td>\n",
       "      <td>-0.096787</td>\n",
       "      <td>-0.021757</td>\n",
       "      <td>-0.022263</td>\n",
       "      <td>1.000000</td>\n",
       "      <td>-0.197870</td>\n",
       "      <td>-0.197872</td>\n",
       "      <td>0.058018</td>\n",
       "      <td>-0.069936</td>\n",
       "    </tr>\n",
       "    <tr>\n",
       "      <th>fico_range_high</th>\n",
       "      <td>0.113521</td>\n",
       "      <td>0.113521</td>\n",
       "      <td>0.067724</td>\n",
       "      <td>0.074356</td>\n",
       "      <td>-0.050331</td>\n",
       "      <td>0.030348</td>\n",
       "      <td>-0.171641</td>\n",
       "      <td>0.031051</td>\n",
       "      <td>-0.197870</td>\n",
       "      <td>1.000000</td>\n",
       "      <td>1.000000</td>\n",
       "      <td>-0.375064</td>\n",
       "      <td>-0.448503</td>\n",
       "    </tr>\n",
       "    <tr>\n",
       "      <th>fico_range_low</th>\n",
       "      <td>0.113521</td>\n",
       "      <td>0.113521</td>\n",
       "      <td>0.067725</td>\n",
       "      <td>0.074356</td>\n",
       "      <td>-0.050328</td>\n",
       "      <td>0.030350</td>\n",
       "      <td>-0.171643</td>\n",
       "      <td>0.031053</td>\n",
       "      <td>-0.197872</td>\n",
       "      <td>1.000000</td>\n",
       "      <td>1.000000</td>\n",
       "      <td>-0.375067</td>\n",
       "      <td>-0.448504</td>\n",
       "    </tr>\n",
       "    <tr>\n",
       "      <th>int_rate</th>\n",
       "      <td>0.123118</td>\n",
       "      <td>0.123118</td>\n",
       "      <td>0.139536</td>\n",
       "      <td>-0.086107</td>\n",
       "      <td>0.166301</td>\n",
       "      <td>-0.044143</td>\n",
       "      <td>0.042665</td>\n",
       "      <td>-0.005516</td>\n",
       "      <td>0.058018</td>\n",
       "      <td>-0.375064</td>\n",
       "      <td>-0.375067</td>\n",
       "      <td>1.000000</td>\n",
       "      <td>0.196467</td>\n",
       "    </tr>\n",
       "    <tr>\n",
       "      <th>revol_util</th>\n",
       "      <td>0.112286</td>\n",
       "      <td>0.112286</td>\n",
       "      <td>0.126779</td>\n",
       "      <td>0.037410</td>\n",
       "      <td>0.141012</td>\n",
       "      <td>0.242095</td>\n",
       "      <td>-0.008660</td>\n",
       "      <td>-0.143820</td>\n",
       "      <td>-0.069936</td>\n",
       "      <td>-0.448503</td>\n",
       "      <td>-0.448504</td>\n",
       "      <td>0.196467</td>\n",
       "      <td>1.000000</td>\n",
       "    </tr>\n",
       "  </tbody>\n",
       "</table>\n",
       "</div>"
      ],
      "text/plain": [
       "                 loan_amnt  funded_amnt  installment  annual_inc       dti  \\\n",
       "loan_amnt         1.000000     1.000000     0.952850    0.310914  0.020821   \n",
       "funded_amnt       1.000000     1.000000     0.952850    0.310914  0.020821   \n",
       "installment       0.952850     0.952850     1.000000    0.300108  0.024823   \n",
       "annual_inc        0.310914     0.310914     0.300108    1.000000 -0.144491   \n",
       "dti               0.020821     0.020821     0.024823   -0.144491  1.000000   \n",
       "revol_bal         0.318580     0.318580     0.305464    0.281997  0.102385   \n",
       "delinq_2yrs      -0.008796    -0.008796     0.000127    0.035928 -0.012619   \n",
       "open_acc          0.182188     0.182188     0.169690    0.130390  0.213876   \n",
       "pub_rec          -0.070506    -0.070506    -0.058493   -0.004934 -0.037522   \n",
       "fico_range_high   0.113521     0.113521     0.067724    0.074356 -0.050331   \n",
       "fico_range_low    0.113521     0.113521     0.067725    0.074356 -0.050328   \n",
       "int_rate          0.123118     0.123118     0.139536   -0.086107  0.166301   \n",
       "revol_util        0.112286     0.112286     0.126779    0.037410  0.141012   \n",
       "\n",
       "                 revol_bal  delinq_2yrs  open_acc   pub_rec  fico_range_high  \\\n",
       "loan_amnt         0.318580    -0.008796  0.182188 -0.070506         0.113521   \n",
       "funded_amnt       0.318580    -0.008796  0.182188 -0.070506         0.113521   \n",
       "installment       0.305464     0.000127  0.169690 -0.058493         0.067724   \n",
       "annual_inc        0.281997     0.035928  0.130390 -0.004934         0.074356   \n",
       "dti               0.102385    -0.012619  0.213876 -0.037522        -0.050331   \n",
       "revol_bal         1.000000    -0.029442  0.222358 -0.096787         0.030348   \n",
       "delinq_2yrs      -0.029442     1.000000  0.046739 -0.021757        -0.171641   \n",
       "open_acc          0.222358     0.046739  1.000000 -0.022263         0.031051   \n",
       "pub_rec          -0.096787    -0.021757 -0.022263  1.000000        -0.197870   \n",
       "fico_range_high   0.030348    -0.171641  0.031051 -0.197870         1.000000   \n",
       "fico_range_low    0.030350    -0.171643  0.031053 -0.197872         1.000000   \n",
       "int_rate         -0.044143     0.042665 -0.005516  0.058018        -0.375064   \n",
       "revol_util        0.242095    -0.008660 -0.143820 -0.069936        -0.448503   \n",
       "\n",
       "                 fico_range_low  int_rate  revol_util  \n",
       "loan_amnt              0.113521  0.123118    0.112286  \n",
       "funded_amnt            0.113521  0.123118    0.112286  \n",
       "installment            0.067725  0.139536    0.126779  \n",
       "annual_inc             0.074356 -0.086107    0.037410  \n",
       "dti                   -0.050328  0.166301    0.141012  \n",
       "revol_bal              0.030350 -0.044143    0.242095  \n",
       "delinq_2yrs           -0.171643  0.042665   -0.008660  \n",
       "open_acc               0.031053 -0.005516   -0.143820  \n",
       "pub_rec               -0.197872  0.058018   -0.069936  \n",
       "fico_range_high        1.000000 -0.375064   -0.448503  \n",
       "fico_range_low         1.000000 -0.375067   -0.448504  \n",
       "int_rate              -0.375067  1.000000    0.196467  \n",
       "revol_util            -0.448504  0.196467    1.000000  "
      ]
     },
     "execution_count": 11,
     "metadata": {},
     "output_type": "execute_result"
    }
   ],
   "source": [
    "#Calculate correlation between continuous features\n",
    "data[continuous_features].corr()"
   ]
  },
  {
   "cell_type": "code",
   "execution_count": 12,
   "metadata": {},
   "outputs": [
    {
     "data": {
      "image/png": "[encoded data removed]",
      "text/plain": [
       "<Figure size 432x288 with 1 Axes>"
      ]
     },
     "metadata": {
      "needs_background": "light"
     },
     "output_type": "display_data"
    }
   ],
   "source": [
    "#Empirical densities\n",
    "data[\"return_1\"].iloc[0:500].plot.kde()\n",
    "pass"
   ]
  },
  {
   "cell_type": "code",
   "execution_count": null,
   "metadata": {},
   "outputs": [],
   "source": []
  },
  {
   "cell_type": "code",
   "execution_count": 13,
   "metadata": {},
   "outputs": [
    {
     "data": {
      "image/png": "[encoded data removed]",
      "text/plain": [
       "<Figure size 432x288 with 1 Axes>"
      ]
     },
     "metadata": {
      "needs_background": "light"
     },
     "output_type": "display_data"
    }
   ],
   "source": [
    "# create figure and axis\n",
    "fig, ax = plt.subplots()\n",
    "# plot histogram\n",
    "ax.hist(data['return_1'])\n",
    "# set title and labels\n",
    "ax.set_title('Distributions of Grades')\n",
    "ax.set_xlabel('Grades')\n",
    "ax.set_ylabel('Frequency')\n",
    "pass"
   ]
  },
  {
   "cell_type": "code",
   "execution_count": 14,
   "metadata": {},
   "outputs": [
    {
     "data": {
      "text/plain": [
       "<AxesSubplot:ylabel='Frequency'>"
      ]
     },
     "execution_count": 14,
     "metadata": {},
     "output_type": "execute_result"
    },
    {
     "data": {
      "image/png": "[encoded data removed]",
      "text/plain": [
       "<Figure size 432x288 with 1 Axes>"
      ]
     },
     "metadata": {
      "needs_background": "light"
     },
     "output_type": "display_data"
    }
   ],
   "source": [
    "data['return_1'].plot.hist()\n"
   ]
  },
  {
   "cell_type": "code",
   "execution_count": 15,
   "metadata": {},
   "outputs": [
    {
     "data": {
      "text/plain": [
       "array([[<AxesSubplot:ylabel='Frequency'>,\n",
       "        <AxesSubplot:ylabel='Frequency'>,\n",
       "        <AxesSubplot:ylabel='Frequency'>],\n",
       "       [<AxesSubplot:ylabel='Frequency'>,\n",
       "        <AxesSubplot:ylabel='Frequency'>,\n",
       "        <AxesSubplot:ylabel='Frequency'>]], dtype=object)"
      ]
     },
     "execution_count": 15,
     "metadata": {},
     "output_type": "execute_result"
    },
    {
     "data": {
      "image/png": "[encoded data removed]",
      "text/plain": [
       "<Figure size 1440x1440 with 6 Axes>"
      ]
     },
     "metadata": {
      "needs_background": "light"
     },
     "output_type": "display_data"
    }
   ],
   "source": [
    "data[return_cols].plot.hist(subplots=True, layout=(2,3), figsize=(20, 20), bins=20)\n"
   ]
  },
  {
   "cell_type": "code",
   "execution_count": 16,
   "metadata": {},
   "outputs": [
    {
     "data": {
      "image/png": "[encoded data removed]",
      "text/plain": [
       "<Figure size 432x288 with 1 Axes>"
      ]
     },
     "metadata": {
      "needs_background": "light"
     },
     "output_type": "display_data"
    }
   ],
   "source": [
    "#bar charts: an example\n",
    "data['grade'].value_counts().sort_index().plot.bar()\n",
    "pass"
   ]
  },
  {
   "cell_type": "code",
   "execution_count": 17,
   "metadata": {},
   "outputs": [],
   "source": [
    "#Seaborn is a Python data visualization library based on Matplotlib. It provides a high-level interface for\n",
    "#creating attractive graphs. Seaborn has a lot to offer. You can create graphs in one line that would \n",
    "#take you multiple tens of lines in Matplotlib. Its standard designs are awesome and it \n",
    "#also has a nice interface for working with pandas dataframes.\n",
    "\n",
    "import seaborn as sns \n",
    "%matplotlib inline"
   ]
  },
  {
   "cell_type": "code",
   "execution_count": 18,
   "metadata": {},
   "outputs": [
    {
     "data": {
      "image/png": "[encoded data removed]",
      "text/plain": [
       "<Figure size 432x288 with 2 Axes>"
      ]
     },
     "metadata": {
      "needs_background": "light"
     },
     "output_type": "display_data"
    }
   ],
   "source": [
    "#A Heatmap is a graphical representation of data where the individual values contained in a matrix are \n",
    "#represented as colors. Heatmaps are perfect for exploring the correlation of features in a dataset.\n",
    "#To get the correlation of the features inside a dataset we can call <dataset>.corr(), which is a \n",
    "#Pandas dataframe method. This will give us the correlation matrix.\n",
    "\n",
    "sns.heatmap(data[continuous_features].corr(), annot=False)\n",
    "pass"
   ]
  },
  {
   "cell_type": "code",
   "execution_count": 19,
   "metadata": {},
   "outputs": [
    {
     "data": {
      "text/plain": [
       "<seaborn.axisgrid.PairGrid at 0x28cc5ba3ee0>"
      ]
     },
     "execution_count": 19,
     "metadata": {},
     "output_type": "execute_result"
    },
    {
     "data": {
      "image/png": "[encoded data removed]",
      "text/plain": [
       "<Figure size 540x540 with 12 Axes>"
      ]
     },
     "metadata": {
      "needs_background": "light"
     },
     "output_type": "display_data"
    }
   ],
   "source": [
    "sns.pairplot(data[[\"loan_amnt\",\"funded_amnt\",\"pub_rec\"]])\n"
   ]
  },
  {
   "cell_type": "code",
   "execution_count": 20,
   "metadata": {},
   "outputs": [
    {
     "data": {
      "text/plain": [
       "<AxesSubplot:xlabel='term', ylabel='count'>"
      ]
     },
     "execution_count": 20,
     "metadata": {},
     "output_type": "execute_result"
    },
    {
     "data": {
      "image/png": "[encoded data removed]",
      "text/plain": [
       "<Figure size 432x288 with 1 Axes>"
      ]
     },
     "metadata": {
      "needs_background": "light"
     },
     "output_type": "display_data"
    }
   ],
   "source": [
    "sns.countplot(x='term',data=data)"
   ]
  },
  {
   "cell_type": "code",
   "execution_count": 21,
   "metadata": {},
   "outputs": [
    {
     "data": {
      "text/plain": [
       "<AxesSubplot:xlabel='grade', ylabel='count'>"
      ]
     },
     "execution_count": 21,
     "metadata": {},
     "output_type": "execute_result"
    },
    {
     "data": {
      "image/png": "[encoded data removed]",
      "text/plain": [
       "<Figure size 432x288 with 1 Axes>"
      ]
     },
     "metadata": {
      "needs_background": "light"
     },
     "output_type": "display_data"
    }
   ],
   "source": [
    "sns.countplot(x='grade',data=data)"
   ]
  },
  {
   "cell_type": "code",
   "execution_count": 22,
   "metadata": {},
   "outputs": [
    {
     "data": {
      "text/plain": [
       "<AxesSubplot:xlabel='grade', ylabel='loan_amnt'>"
      ]
     },
     "execution_count": 22,
     "metadata": {},
     "output_type": "execute_result"
    },
    {
     "data": {
      "image/png": "[encoded data removed]",
      "text/plain": [
       "<Figure size 720x576 with 1 Axes>"
      ]
     },
     "metadata": {
      "needs_background": "light"
     },
     "output_type": "display_data"
    }
   ],
   "source": [
    "plt.figure(figsize=(10,8))\n",
    "sns.boxplot(x='grade',y='loan_amnt',data=data,palette=\"summer\")"
   ]
  },
  {
   "cell_type": "code",
   "execution_count": 23,
   "metadata": {},
   "outputs": [
    {
     "data": {
      "text/plain": [
       "<AxesSubplot:xlabel='funded_amnt'>"
      ]
     },
     "execution_count": 23,
     "metadata": {},
     "output_type": "execute_result"
    },
    {
     "data": {
      "image/png": "[encoded data removed]",
      "text/plain": [
       "<Figure size 432x288 with 1 Axes>"
      ]
     },
     "metadata": {
      "needs_background": "light"
     },
     "output_type": "display_data"
    }
   ],
   "source": [
    "i=1\n",
    "sns.boxplot(x=data[continuous_features[i]])\n"
   ]
  },
  {
   "cell_type": "code",
   "execution_count": 24,
   "metadata": {},
   "outputs": [
    {
     "data": {
      "text/plain": [
       "Fully Paid     477373\n",
       "Charged Off    127980\n",
       "Default            21\n",
       "Name: loan_status, dtype: int64"
      ]
     },
     "execution_count": 24,
     "metadata": {},
     "output_type": "execute_result"
    }
   ],
   "source": [
    "data.loan_status.value_counts()\n"
   ]
  },
  {
   "cell_type": "markdown",
   "metadata": {},
   "source": [
    "# Exercise 2 --- 9 or 10 lines of coding - [5/15]\n"
   ]
  },
  {
   "cell_type": "code",
   "execution_count": 9,
   "metadata": {
    "scrolled": true
   },
   "outputs": [
    {
     "data": {
      "text/html": [
       "<div>\n",
       "<style scoped>\n",
       "    .dataframe tbody tr th:only-of-type {\n",
       "        vertical-align: middle;\n",
       "    }\n",
       "\n",
       "    .dataframe tbody tr th {\n",
       "        vertical-align: top;\n",
       "    }\n",
       "\n",
       "    .dataframe thead th {\n",
       "        text-align: right;\n",
       "    }\n",
       "</style>\n",
       "<table border=\"1\" class=\"dataframe\">\n",
       "  <thead>\n",
       "    <tr style=\"text-align: right;\">\n",
       "      <th></th>\n",
       "      <th>grade</th>\n",
       "      <th>int_rate</th>\n",
       "      <th>return_1</th>\n",
       "      <th>default</th>\n",
       "    </tr>\n",
       "    <tr>\n",
       "      <th>grade</th>\n",
       "      <th></th>\n",
       "      <th></th>\n",
       "      <th></th>\n",
       "      <th></th>\n",
       "    </tr>\n",
       "  </thead>\n",
       "  <tbody>\n",
       "    <tr>\n",
       "      <th>A</th>\n",
       "      <td>19.184339</td>\n",
       "      <td>6.877237</td>\n",
       "      <td>1.649014</td>\n",
       "      <td>6.123802</td>\n",
       "    </tr>\n",
       "    <tr>\n",
       "      <th>B</th>\n",
       "      <td>28.356520</td>\n",
       "      <td>10.150223</td>\n",
       "      <td>1.324803</td>\n",
       "      <td>14.233120</td>\n",
       "    </tr>\n",
       "    <tr>\n",
       "      <th>C</th>\n",
       "      <td>28.562674</td>\n",
       "      <td>13.576124</td>\n",
       "      <td>0.427756</td>\n",
       "      <td>23.923868</td>\n",
       "    </tr>\n",
       "    <tr>\n",
       "      <th>D</th>\n",
       "      <td>14.029674</td>\n",
       "      <td>17.389625</td>\n",
       "      <td>-0.456187</td>\n",
       "      <td>33.344323</td>\n",
       "    </tr>\n",
       "    <tr>\n",
       "      <th>E</th>\n",
       "      <td>6.990885</td>\n",
       "      <td>20.601166</td>\n",
       "      <td>-1.382236</td>\n",
       "      <td>42.090215</td>\n",
       "    </tr>\n",
       "    <tr>\n",
       "      <th>F</th>\n",
       "      <td>2.179810</td>\n",
       "      <td>24.977874</td>\n",
       "      <td>-2.378748</td>\n",
       "      <td>50.545620</td>\n",
       "    </tr>\n",
       "    <tr>\n",
       "      <th>G</th>\n",
       "      <td>0.696099</td>\n",
       "      <td>28.598315</td>\n",
       "      <td>-3.714312</td>\n",
       "      <td>54.247746</td>\n",
       "    </tr>\n",
       "  </tbody>\n",
       "</table>\n",
       "</div>"
      ],
      "text/plain": [
       "           grade   int_rate  return_1    default\n",
       "grade                                           \n",
       "A      19.184339   6.877237  1.649014   6.123802\n",
       "B      28.356520  10.150223  1.324803  14.233120\n",
       "C      28.562674  13.576124  0.427756  23.923868\n",
       "D      14.029674  17.389625 -0.456187  33.344323\n",
       "E       6.990885  20.601166 -1.382236  42.090215\n",
       "F       2.179810  24.977874 -2.378748  50.545620\n",
       "G       0.696099  28.598315 -3.714312  54.247746"
      ]
     },
     "execution_count": 9,
     "metadata": {},
     "output_type": "execute_result"
    }
   ],
   "source": [
    "#For this exercise, first, find the percentage of loans by grade in the dataset. \n",
    "#Second, for each grade category, find the average of int_rate and return_1 of the loans. \n",
    "#Third, find the precentage of loans defaulted in each grade category. Show your result in a table like\n",
    "#below. Store the result in a Panda dataframe and call it combined.\n",
    "#\n",
    "#\n",
    "#----------------------------------\n",
    "#Write your code bellow\n",
    "\n",
    "#----------------------------------\n",
    "def f(df):\n",
    "    return(pd.Series({\n",
    "        'grade':len(df['grade']),\n",
    "        'int_rate':  df['int_rate'].mean(),\n",
    "        'return_1': df['return_1'].mean() *100,\n",
    "        'default': sum(df['loan_status'] != 'Fully Paid')/ df['loan_status'].count() *100\n",
    "    }))\n",
    "\n",
    "combined = data.groupby(['grade']).apply(f)\n",
    "combined['grade'] = combined['grade'] / combined['grade'].sum() * 100\n",
    "#combined.columns\n",
    "combined\n",
    "\n"
   ]
  },
  {
   "cell_type": "code",
   "execution_count": null,
   "metadata": {},
   "outputs": [],
   "source": []
  },
  {
   "cell_type": "code",
   "execution_count": 29,
   "metadata": {},
   "outputs": [
    {
     "data": {
      "text/plain": [
       "0    False\n",
       "2    False\n",
       "3    False\n",
       "4    False\n",
       "5    False\n",
       "Name: outcome, dtype: bool"
      ]
     },
     "execution_count": 29,
     "metadata": {},
     "output_type": "execute_result"
    }
   ],
   "source": [
    "# We add new columns to the data called \"outcome\" which indicates whether or not a loan is defaulted\n",
    "data[\"outcome\"] = data.loan_status.isin([\"Charged Off\", \"Default\"])\n",
    "data[\"outcome\"].head()\n"
   ]
  },
  {
   "cell_type": "code",
   "execution_count": 30,
   "metadata": {},
   "outputs": [],
   "source": [
    "# Create a feature for the length of a person's credit history at the\n",
    "# time the loan is issued\n",
    "data['cr_hist'] = (data.issue_d - data.earliest_cr_line) / np.timedelta64(1, 'M')\n",
    "continuous_features.append('cr_hist')"
   ]
  },
  {
   "cell_type": "code",
   "execution_count": 31,
   "metadata": {},
   "outputs": [],
   "source": [
    "# Create a matrix of features and outcomes, convert categorical features using dummies. \n",
    "x_continuous = data[continuous_features]\n",
    "x_discrete = pd.get_dummies(data[\"grade\"], dummy_na = True, prefix_sep = \"::\", drop_first = False)\n",
    "y = data.outcome.values\n",
    "\n",
    "#store return values in y_return\n",
    "y_return1 = data.return_1\n",
    "y_return2 = data.return_2\n",
    "y_return3a = data.return_3a\n",
    "y_return3b = data.return_3b\n",
    "y_return3c = data.return_3c"
   ]
  },
  {
   "cell_type": "code",
   "execution_count": 32,
   "metadata": {},
   "outputs": [],
   "source": [
    "# For simplicity, we only consider the first seven discrete features as the space of\n",
    "# features and the y_return1 as the resposne variable. \n",
    "#Split dataset into training set and test set for y_return1 for 60% training, 20% cross validation, and 20% testing\n",
    "x_train, x_test, y_return_train, y_return_test = train_test_split(x_discrete.iloc[:,0:7], y_return1, test_size=0.4,\n",
    "                                                                  random_state=default_seed) \n",
    "x_test, x_val, y_return_test, y_return_val = train_test_split(x_test, y_return_test, test_size=0.5,\n",
    "                                                                  random_state=default_seed) \n"
   ]
  },
  {
   "cell_type": "code",
   "execution_count": 33,
   "metadata": {},
   "outputs": [],
   "source": [
    "#Performing a linear regression fitting for the return_1 with no regularization\n",
    "\n",
    "grade_only_linear = LinearRegression()\n",
    "grade_only_linear.fit(x_train, y_return_train)\n",
    "parameters_linear = grade_only_linear.coef_\n",
    "\n",
    "y_pred_linear = grade_only_linear.predict(x_test)"
   ]
  },
  {
   "cell_type": "code",
   "execution_count": null,
   "metadata": {},
   "outputs": [],
   "source": []
  },
  {
   "cell_type": "code",
   "execution_count": 34,
   "metadata": {},
   "outputs": [
    {
     "name": "stdout",
     "output_type": "stream",
     "text": [
      "565\n"
     ]
    }
   ],
   "source": [
    "#Searching for the optimal regularization parameter using the cross validation dataset\n",
    "#Using the cross validation set, we obtain the optimal alpha that minimizes the mean-square error\n",
    "#of predicted returns on the cross validation set. \n",
    "\n",
    "error = []\n",
    "error_val = []\n",
    "alphas = range(0, 1000, 5)\n",
    "for a in alphas:\n",
    "    ridge_regular = linear_model.Ridge(alpha=a, fit_intercept=True)\n",
    "    ridge_regular.fit(x_train, y_return_train)\n",
    "    y_pred = ridge_regular.predict(x_train)\n",
    "    y_pred_val = ridge_regular.predict(x_val)\n",
    "   \n",
    "    error.append(mean_squared_error(y_return_train, y_pred))\n",
    "    error_val.append(mean_squared_error(y_pred_val, y_return_val))\n",
    "\n",
    "min_index = error_val.index(min(error_val))\n",
    "alpha_star = alphas[min_index]\n",
    "print(alpha_star)\n",
    "#--------------------------------------"
   ]
  },
  {
   "cell_type": "code",
   "execution_count": null,
   "metadata": {},
   "outputs": [],
   "source": [
    "        "
   ]
  },
  {
   "cell_type": "code",
   "execution_count": 35,
   "metadata": {},
   "outputs": [
    {
     "data": {
      "image/png": "[encoded data removed]",
      "text/plain": [
       "<Figure size 720x720 with 2 Axes>"
      ]
     },
     "metadata": {
      "needs_background": "light"
     },
     "output_type": "display_data"
    }
   ],
   "source": [
    "#The result of the last block could be shown graphically as follows:\n",
    "plt.figure(figsize=(10, 10))\n",
    "plt.subplot(2, 1, 1)\n",
    "plt.plot(alphas,error)\n",
    "plt.xlabel('Alpha')\n",
    "plt.ylabel('Error on the training dataset')\n",
    "\n",
    "plt.subplot(2, 1, 2)\n",
    "plt.plot(alphas,error_val,color='green')\n",
    "plt.xlabel('Alpha')\n",
    "plt.ylabel('Error on the cross validation set')\n",
    "plt.show()\n",
    "#Look at the following figures; what do you observe?"
   ]
  },
  {
   "cell_type": "code",
   "execution_count": 36,
   "metadata": {},
   "outputs": [
    {
     "name": "stdout",
     "output_type": "stream",
     "text": [
      "0.006653111637479146\n",
      "0.006653430119746983\n"
     ]
    }
   ],
   "source": [
    "#Now, we calcualte the mean-square error on the test dataset using the optimal alpha that we already obtained\n",
    "#and the defaulted one used by the Ridge regression of the lienar model; see if the validation procedure has been\n",
    "#effective\n",
    "\n",
    "\n",
    "ridge_regular_optimal = linear_model.Ridge(alpha=alpha_star, fit_intercept=True)\n",
    "ridge_regular = linear_model.Ridge(alpha=1, fit_intercept=True)\n",
    "\n",
    "ridge_regular_optimal.fit(x_train,y_return_train)\n",
    "y_pred = ridge_regular.fit(x_train, y_return_train).predict(x_test)\n",
    "y_pred_optimal = ridge_regular_optimal.predict(x_test)\n",
    "\n",
    "print(mean_squared_error(y_pred, y_return_test))\n",
    "print(mean_squared_error(y_pred_optimal, y_return_test))\n",
    "\n"
   ]
  },
  {
   "cell_type": "code",
   "execution_count": null,
   "metadata": {},
   "outputs": [],
   "source": []
  },
  {
   "cell_type": "code",
   "execution_count": 37,
   "metadata": {},
   "outputs": [
    {
     "data": {
      "image/png": "[encoded data removed]",
      "text/plain": [
       "<Figure size 1152x720 with 1 Axes>"
      ]
     },
     "metadata": {
      "needs_background": "light"
     },
     "output_type": "display_data"
    }
   ],
   "source": [
    "#Let us compare the predicted and actual predictoins of the ridge model.\n",
    "y_pred_train = ridge_regular_optimal.predict(x_train)\n",
    "df = pd.DataFrame({'Actual': y_return_train, 'Predicted': y_pred_train})\n",
    "df1 = df.head(30)\n",
    "\n",
    "df1.plot(kind='bar', figsize=(16,10))\n",
    "plt.show()"
   ]
  },
  {
   "cell_type": "markdown",
   "metadata": {},
   "source": [
    "# Exercise 3 - Max 300 words (excluding the pseudo code) (5/15)\n"
   ]
  },
  {
   "cell_type": "markdown",
   "metadata": {},
   "source": [
    "You already know two approaches to measure the importance of features: linear regression and tree type models such as random forest. Explain how the concept of regularization in models such as ridge regression can be used to come up with another notion\n",
    "of importance. \n",
    "\n",
    "Your explanations must include a pseudocode implementing an algorithm that shows how the importance of all the features are calculated and returned.\n",
    "\n",
    "Your explanations should be right to the point, concise, clear, and free from spelling error and grammatically correct.\n",
    "\n",
    "Write your answer below:\n",
    "\n"
   ]
  },
  {
   "cell_type": "markdown",
   "metadata": {},
   "source": [
    "---\n",
    "\n",
    "##### Why regularization brings feature importance:\n",
    "\n",
    "- The objective function of linear regression with regularization:\n",
    "$$\n",
    "\\sum \\limits_{i=1}^n \\Bigg(y_i -  \\sum \\limits_{j=1}^m x_{ij} \\beta_j \\Bigg) ^ 2 + \\lambda \\sum \\limits_{j=1}^m |\\beta_j|^p \n",
    "\n",
    "$$\n",
    "\n",
    "\n",
    " （ when p = 1 , it is called LASSO regression; and when p=2, called ridge regression. ）\n",
    "\n",
    "\n",
    "\n",
    "\n",
    "\n",
    "(1) **The objective function shows:** The second term (a.k.a. the penalty term) tends to make coefficients shrink to 0 or around 0, while the first term (RSS) tends to minimize the prediction errors (in other words, RSS tends to make coefficient estimations close to the true value). Besides, $\\lambda$ means the intensity of the punishment. Small $\\lambda$ makes the objective function emphasizes RSS more, and vice versa.\n",
    "\n",
    "\n",
    "\n",
    "\n",
    "(2) **Feature importance:** Changes in unimportant features' coefficients can't lead to large changes in RSS, while lead to large changes in the penalty term. So the coefficients of unimportant features could shrink to 0 (In LASSO regression) or around 0 (In ridge regression). Therefore, the more important the feature, the larger the absolute value of its coefficient. \n",
    "\n",
    "\n",
    "(3) **Tips 1 —— Standardization**: Features should have the same scale becuase the scale effects the value of coefficients. \n",
    "\n",
    "\n",
    "(4) **Tips 2 —— Multicollinearity**: Multicollinearity will weaken the meaning of feature importance because ridge regression tends to average the relevant variables' coefficients. For example, in a simple linear model $Y = 2X_1 + 2X_2 + 3X_3$, and $X_1, X_2$ are completely correlated. Actually, we can use only one variable to capture the effects from $X_1, X_2$, like $Y = 4X_{new} + 3X_3$. And $X_{new}$ is more important than $X_3$, but the old model tells us $X_3$ is most important. However, ridge regression can help to find out and exclude correlated variables because their coefficients tend to be similar or the same. \n",
    "\n",
    "\n",
    "(5) **Tips 3 —— optimal $\\lambda$**： Use cross-validation to find the hypoparameter $\\lambda$\n",
    "\n",
    "---\n",
    "##### How to calculate the importance (Pseudocode): \n",
    "\n",
    "**Pseudocode:**\n",
    "\n",
    "*Input: dataset*\n",
    "\n",
    "*Output: feature importance*\n",
    "\n",
    "*Procedure:*\n",
    "\n",
    "\n",
    "Step 0: Ensure that there is no multicollinearity among the features\n",
    "\n",
    "Step 1: Standardize the dataset\n",
    "\n",
    "Step 2: Split the dataset into train dataset and test dataset.\n",
    "\n",
    "Step 3: Find the optimal hyperparameter $\\lambda$ by using the K-fold cross-validation \n",
    "\n",
    "\n",
    "&emsp; (1) Divided the train dataset into K parts, denoted $\\{K_1, K_2, K_3\\ ... K_m\\}$: \n",
    "\n",
    "&emsp; (2) For $\\lambda_i$ in the range = {0.0001, 0.001, 0.01, 0.1, 1, 10 , 100, 1000, 10000, 100000}:{\n",
    "\n",
    "&emsp;&emsp;&emsp;&ensp; For k in $\\{K_1, K_2, ... K_m\\}$:{\n",
    "\n",
    "&emsp; &emsp;&ensp;&emsp;&emsp; Train the linear model with regularization using datasets $K-k$; And test the model using dataset $k$; And use dataset $k$ to calculate the residual sum of squares, denoted $RSS_{i,k}$\n",
    "\n",
    "&emsp;&emsp;&emsp;&ensp; }\n",
    "\n",
    "&emsp;&emsp;&ensp;  Calculate the $RSS_i$ = mean($RSS_{i,k}$)\n",
    "\n",
    "&emsp;&emsp;&ensp; }\n",
    "\n",
    "&emsp; (3) The better $\\lambda$ is the one has the smallest $RSS_i$ among the range\n",
    "\n",
    "&emsp; (4) We can do (1) - (3) for 2 or 3 times to narrow the range of $\\lambda$ and then find the optimal $\\lambda$\n",
    "\n",
    "\n",
    "Step 4: Get the estimation of coefficients (A.K.A feature importance) under the optimal $\\lambda$\n",
    "\n",
    "- Use train dataset to build the linear model with regularization, and use the gradient descent to find the estimation of the coefficients.\n",
    "\n",
    "Step 5: The feature importance is measured by the absolute value of coefficient estimation. \n",
    "\n",
    "Step 6: In addition, we can do feature selection after getting the feature importance. \n",
    "\n",
    "- In LASSO regulation, we use 0 as the threshold to determine whether a variable is important. In other regression with convex regularization like ridge regression, we need to find a benchmark as the threshold.  \n",
    "\n",
    "\n",
    "\n"
   ]
  },
  {
   "cell_type": "markdown",
   "metadata": {},
   "source": []
  },
  {
   "cell_type": "code",
   "execution_count": null,
   "metadata": {},
   "outputs": [],
   "source": []
  },
  {
   "cell_type": "code",
   "execution_count": null,
   "metadata": {},
   "outputs": [],
   "source": []
  },
  {
   "cell_type": "code",
   "execution_count": null,
   "metadata": {},
   "outputs": [],
   "source": []
  }
 ],
 "metadata": {
  "kernelspec": {
   "display_name": "Python 3",
   "language": "python",
   "name": "python3"
  },
  "language_info": {
   "codemirror_mode": {
    "name": "ipython",
    "version": 3
   },
   "file_extension": ".py",
   "mimetype": "text/x-python",
   "name": "python",
   "nbconvert_exporter": "python",
   "pygments_lexer": "ipython3",
   "version": "3.9.10"
  }
 },
 "nbformat": 4,
 "nbformat_minor": 2
}
