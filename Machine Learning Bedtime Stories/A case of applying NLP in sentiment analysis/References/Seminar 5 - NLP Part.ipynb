{
 "cells": [
  {
   "cell_type": "code",
   "execution_count": 1,
   "metadata": {
    "pycharm": {
     "is_executing": false,
     "name": "#%%\n"
    }
   },
   "outputs": [
    {
     "name": "stderr",
     "output_type": "stream",
     "text": [
      "[nltk_data] Downloading package stopwords to\n",
      "[nltk_data]     /Users/enterprise/nltk_data...\n",
      "[nltk_data]   Package stopwords is already up-to-date!\n"
     ]
    }
   ],
   "source": [
    "# Import packages\n",
    "import pandas as pd\n",
    "from datetime import datetime\n",
    "from datetime import date\n",
    "import xlrd\n",
    "import numpy as np\n",
    "import re\n",
    "# Some functions built by the user\n",
    "import myfunction as mf\n",
    "import nltk\n",
    "nltk.download('stopwords')\n",
    "\n",
    "import warnings\n",
    "warnings.filterwarnings(\"ignore\")"
   ]
  },
  {
   "cell_type": "code",
   "execution_count": 36,
   "metadata": {},
   "outputs": [
    {
     "name": "stdout",
     "output_type": "stream",
     "text": [
      "(560, 3)\n"
     ]
    },
    {
     "data": {
      "text/html": [
       "<div>\n",
       "<style scoped>\n",
       "    .dataframe tbody tr th:only-of-type {\n",
       "        vertical-align: middle;\n",
       "    }\n",
       "\n",
       "    .dataframe tbody tr th {\n",
       "        vertical-align: top;\n",
       "    }\n",
       "\n",
       "    .dataframe thead th {\n",
       "        text-align: right;\n",
       "    }\n",
       "</style>\n",
       "<table border=\"1\" class=\"dataframe\">\n",
       "  <thead>\n",
       "    <tr style=\"text-align: right;\">\n",
       "      <th></th>\n",
       "      <th>Unnamed: 0</th>\n",
       "      <th>headline</th>\n",
       "      <th>date</th>\n",
       "    </tr>\n",
       "  </thead>\n",
       "  <tbody>\n",
       "    <tr>\n",
       "      <th>0</th>\n",
       "      <td>0</td>\n",
       "      <td>Suing Google Won’t Help Consumers</td>\n",
       "      <td>2020-10-20</td>\n",
       "    </tr>\n",
       "    <tr>\n",
       "      <th>1</th>\n",
       "      <td>1</td>\n",
       "      <td>What to Watch: A Cartoonist Gets ‘Woke,’ ‘Coas...</td>\n",
       "      <td>2020-09-10</td>\n",
       "    </tr>\n",
       "  </tbody>\n",
       "</table>\n",
       "</div>"
      ],
      "text/plain": [
       "   Unnamed: 0                                           headline        date\n",
       "0           0                  Suing Google Won’t Help Consumers  2020-10-20\n",
       "1           1  What to Watch: A Cartoonist Gets ‘Woke,’ ‘Coas...  2020-09-10"
      ]
     },
     "execution_count": 36,
     "metadata": {},
     "output_type": "execute_result"
    }
   ],
   "source": [
    "# Import dataset - collected in part 1\n",
    "df_row = pd.read_csv(\"Amazon_data\")\n",
    "print(df_row.shape)\n",
    "df_row.head(2)"
   ]
  },
  {
   "cell_type": "code",
   "execution_count": 38,
   "metadata": {},
   "outputs": [
    {
     "data": {
      "text/html": [
       "<div>\n",
       "<style scoped>\n",
       "    .dataframe tbody tr th:only-of-type {\n",
       "        vertical-align: middle;\n",
       "    }\n",
       "\n",
       "    .dataframe tbody tr th {\n",
       "        vertical-align: top;\n",
       "    }\n",
       "\n",
       "    .dataframe thead th {\n",
       "        text-align: right;\n",
       "    }\n",
       "</style>\n",
       "<table border=\"1\" class=\"dataframe\">\n",
       "  <thead>\n",
       "    <tr style=\"text-align: right;\">\n",
       "      <th></th>\n",
       "      <th>Unnamed: 0</th>\n",
       "      <th>headline</th>\n",
       "      <th>date</th>\n",
       "    </tr>\n",
       "  </thead>\n",
       "  <tbody>\n",
       "    <tr>\n",
       "      <th>555</th>\n",
       "      <td>555</td>\n",
       "      <td>Amazon’s Cloud Cover Makes It a Bigger Threat</td>\n",
       "      <td>2016-05-20</td>\n",
       "    </tr>\n",
       "    <tr>\n",
       "      <th>556</th>\n",
       "      <td>556</td>\n",
       "      <td>Gap Open to Selling on Amazon</td>\n",
       "      <td>2016-05-18</td>\n",
       "    </tr>\n",
       "    <tr>\n",
       "      <th>557</th>\n",
       "      <td>557</td>\n",
       "      <td>Amazon Plans More Stores, Bulked-Up Prime Serv...</td>\n",
       "      <td>2016-05-17</td>\n",
       "    </tr>\n",
       "    <tr>\n",
       "      <th>558</th>\n",
       "      <td>558</td>\n",
       "      <td>Amazon Expands Restaurant Delivery to New York...</td>\n",
       "      <td>2016-05-17</td>\n",
       "    </tr>\n",
       "    <tr>\n",
       "      <th>559</th>\n",
       "      <td>559</td>\n",
       "      <td>Amazon Launches YouTube-Like Video Service</td>\n",
       "      <td>2016-05-10</td>\n",
       "    </tr>\n",
       "  </tbody>\n",
       "</table>\n",
       "</div>"
      ],
      "text/plain": [
       "     Unnamed: 0                                           headline        date\n",
       "555         555      Amazon’s Cloud Cover Makes It a Bigger Threat  2016-05-20\n",
       "556         556                      Gap Open to Selling on Amazon  2016-05-18\n",
       "557         557  Amazon Plans More Stores, Bulked-Up Prime Serv...  2016-05-17\n",
       "558         558  Amazon Expands Restaurant Delivery to New York...  2016-05-17\n",
       "559         559         Amazon Launches YouTube-Like Video Service  2016-05-10"
      ]
     },
     "execution_count": 38,
     "metadata": {},
     "output_type": "execute_result"
    }
   ],
   "source": [
    "df_row.tail()"
   ]
  },
  {
   "cell_type": "code",
   "execution_count": 6,
   "metadata": {
    "pycharm": {
     "is_executing": false,
     "name": "#%%\n"
    }
   },
   "outputs": [
    {
     "data": {
      "text/html": [
       "<div>\n",
       "<style scoped>\n",
       "    .dataframe tbody tr th:only-of-type {\n",
       "        vertical-align: middle;\n",
       "    }\n",
       "\n",
       "    .dataframe tbody tr th {\n",
       "        vertical-align: top;\n",
       "    }\n",
       "\n",
       "    .dataframe thead th {\n",
       "        text-align: right;\n",
       "    }\n",
       "</style>\n",
       "<table border=\"1\" class=\"dataframe\">\n",
       "  <thead>\n",
       "    <tr style=\"text-align: right;\">\n",
       "      <th></th>\n",
       "      <th>Unnamed: 0</th>\n",
       "      <th>headline</th>\n",
       "    </tr>\n",
       "    <tr>\n",
       "      <th>Dates</th>\n",
       "      <th></th>\n",
       "      <th></th>\n",
       "    </tr>\n",
       "  </thead>\n",
       "  <tbody>\n",
       "    <tr>\n",
       "      <th>2020-10-20</th>\n",
       "      <td>0</td>\n",
       "      <td>Suing Google Won’t Help Consumers</td>\n",
       "    </tr>\n",
       "    <tr>\n",
       "      <th>2020-09-10</th>\n",
       "      <td>1</td>\n",
       "      <td>What to Watch: A Cartoonist Gets ‘Woke,’ ‘Coas...</td>\n",
       "    </tr>\n",
       "  </tbody>\n",
       "</table>\n",
       "</div>"
      ],
      "text/plain": [
       "            Unnamed: 0                                           headline\n",
       "Dates                                                                    \n",
       "2020-10-20           0                  Suing Google Won’t Help Consumers\n",
       "2020-09-10           1  What to Watch: A Cartoonist Gets ‘Woke,’ ‘Coas..."
      ]
     },
     "execution_count": 6,
     "metadata": {},
     "output_type": "execute_result"
    }
   ],
   "source": [
    "# Get dates and convert them from excel to python dates\n",
    "excel_dates = np.asarray(df_row[\"date\"])\n",
    "python_date = []\n",
    "for j in range(len(excel_dates)):\n",
    "    python_date.append(date(int(excel_dates[j][:4]),int(excel_dates[j][5:7]),int(excel_dates[j][8:10])))\n",
    "# Reset index to converted dates\n",
    "df_row[\"Dates\"] = python_date\n",
    "df_row = df_row.set_index('Dates')\n",
    "df_row = df_row.drop([\"date\"], axis = 1)\n",
    "df_row.head(2)"
   ]
  },
  {
   "cell_type": "code",
   "execution_count": 7,
   "metadata": {},
   "outputs": [
    {
     "data": {
      "text/html": [
       "<div>\n",
       "<style scoped>\n",
       "    .dataframe tbody tr th:only-of-type {\n",
       "        vertical-align: middle;\n",
       "    }\n",
       "\n",
       "    .dataframe tbody tr th {\n",
       "        vertical-align: top;\n",
       "    }\n",
       "\n",
       "    .dataframe thead th {\n",
       "        text-align: right;\n",
       "    }\n",
       "</style>\n",
       "<table border=\"1\" class=\"dataframe\">\n",
       "  <thead>\n",
       "    <tr style=\"text-align: right;\">\n",
       "      <th></th>\n",
       "      <th>headline</th>\n",
       "    </tr>\n",
       "    <tr>\n",
       "      <th>Dates</th>\n",
       "      <th></th>\n",
       "    </tr>\n",
       "  </thead>\n",
       "  <tbody>\n",
       "    <tr>\n",
       "      <th>2020-10-20</th>\n",
       "      <td>Suing Google Won’t Help Consumers</td>\n",
       "    </tr>\n",
       "    <tr>\n",
       "      <th>2020-09-10</th>\n",
       "      <td>What to Watch: A Cartoonist Gets ‘Woke,’ ‘Coas...</td>\n",
       "    </tr>\n",
       "    <tr>\n",
       "      <th>2020-09-02</th>\n",
       "      <td>What to Watch: With ‘Cobra Kai,’ a Middle-Aged...</td>\n",
       "    </tr>\n",
       "    <tr>\n",
       "      <th>2020-08-09</th>\n",
       "      <td>That Shooting Star You See in the Sky May Well...</td>\n",
       "    </tr>\n",
       "    <tr>\n",
       "      <th>2020-06-09</th>\n",
       "      <td>How Tim Gunn Made It Work</td>\n",
       "    </tr>\n",
       "  </tbody>\n",
       "</table>\n",
       "</div>"
      ],
      "text/plain": [
       "                                                     headline\n",
       "Dates                                                        \n",
       "2020-10-20                  Suing Google Won’t Help Consumers\n",
       "2020-09-10  What to Watch: A Cartoonist Gets ‘Woke,’ ‘Coas...\n",
       "2020-09-02  What to Watch: With ‘Cobra Kai,’ a Middle-Aged...\n",
       "2020-08-09  That Shooting Star You See in the Sky May Well...\n",
       "2020-06-09                          How Tim Gunn Made It Work"
      ]
     },
     "execution_count": 7,
     "metadata": {},
     "output_type": "execute_result"
    }
   ],
   "source": [
    "df = df_row#.reset_index(drop=True)\n",
    "del df['Unnamed: 0']\n",
    "df.head()"
   ]
  },
  {
   "cell_type": "code",
   "execution_count": 135,
   "metadata": {},
   "outputs": [
    {
     "data": {
      "text/html": [
       "<div>\n",
       "<style scoped>\n",
       "    .dataframe tbody tr th:only-of-type {\n",
       "        vertical-align: middle;\n",
       "    }\n",
       "\n",
       "    .dataframe tbody tr th {\n",
       "        vertical-align: top;\n",
       "    }\n",
       "\n",
       "    .dataframe thead th {\n",
       "        text-align: right;\n",
       "    }\n",
       "</style>\n",
       "<table border=\"1\" class=\"dataframe\">\n",
       "  <thead>\n",
       "    <tr style=\"text-align: right;\">\n",
       "      <th></th>\n",
       "      <th>document</th>\n",
       "    </tr>\n",
       "    <tr>\n",
       "      <th>Dates</th>\n",
       "      <th></th>\n",
       "    </tr>\n",
       "  </thead>\n",
       "  <tbody>\n",
       "    <tr>\n",
       "      <th>2020-09-30</th>\n",
       "      <td>Suing Google Won’t Help Consumers Where Tech T...</td>\n",
       "    </tr>\n",
       "    <tr>\n",
       "      <th>2020-08-31</th>\n",
       "      <td>What to Watch: A Cartoonist Gets ‘Woke,’ ‘Coas...</td>\n",
       "    </tr>\n",
       "    <tr>\n",
       "      <th>2020-07-31</th>\n",
       "      <td>That Shooting Star You See in the Sky May Well...</td>\n",
       "    </tr>\n",
       "    <tr>\n",
       "      <th>2020-05-31</th>\n",
       "      <td>How Tim Gunn Made It Work How Tim Gunn Made It...</td>\n",
       "    </tr>\n",
       "    <tr>\n",
       "      <th>2020-04-30</th>\n",
       "      <td>On Amazon’s ‘Making the Cut’ Fashion Is a Tota...</td>\n",
       "    </tr>\n",
       "    <tr>\n",
       "      <th>2020-03-31</th>\n",
       "      <td>Amazon Aims to Test All Employees for Covid-19...</td>\n",
       "    </tr>\n",
       "    <tr>\n",
       "      <th>2020-01-31</th>\n",
       "      <td>‘Hunters’ Mixes Nazis, Heroes, Al Pacino to Ex...</td>\n",
       "    </tr>\n",
       "    <tr>\n",
       "      <th>2019-12-31</th>\n",
       "      <td>How Amazon Puts Consumers at Risk How Amazon P...</td>\n",
       "    </tr>\n",
       "    <tr>\n",
       "      <th>2019-11-30</th>\n",
       "      <td>One Independent Movie Theater Struggles to Sur...</td>\n",
       "    </tr>\n",
       "    <tr>\n",
       "      <th>2019-06-30</th>\n",
       "      <td>Tired of Those Netflix and Amazon ‘Recommendat...</td>\n",
       "    </tr>\n",
       "    <tr>\n",
       "      <th>2019-02-28</th>\n",
       "      <td>Cuomo Tightens Control Over Board Tied to Amaz...</td>\n",
       "    </tr>\n",
       "    <tr>\n",
       "      <th>2018-10-31</th>\n",
       "      <td>Germany Opens Amazon Antitrust Probe, Adding t...</td>\n",
       "    </tr>\n",
       "  </tbody>\n",
       "</table>\n",
       "</div>"
      ],
      "text/plain": [
       "                                                     document\n",
       "Dates                                                        \n",
       "2020-09-30  Suing Google Won’t Help Consumers Where Tech T...\n",
       "2020-08-31  What to Watch: A Cartoonist Gets ‘Woke,’ ‘Coas...\n",
       "2020-07-31  That Shooting Star You See in the Sky May Well...\n",
       "2020-05-31  How Tim Gunn Made It Work How Tim Gunn Made It...\n",
       "2020-04-30  On Amazon’s ‘Making the Cut’ Fashion Is a Tota...\n",
       "2020-03-31  Amazon Aims to Test All Employees for Covid-19...\n",
       "2020-01-31  ‘Hunters’ Mixes Nazis, Heroes, Al Pacino to Ex...\n",
       "2019-12-31  How Amazon Puts Consumers at Risk How Amazon P...\n",
       "2019-11-30  One Independent Movie Theater Struggles to Sur...\n",
       "2019-06-30  Tired of Those Netflix and Amazon ‘Recommendat...\n",
       "2019-02-28  Cuomo Tightens Control Over Board Tied to Amaz...\n",
       "2018-10-31  Germany Opens Amazon Antitrust Probe, Adding t..."
      ]
     },
     "execution_count": 135,
     "metadata": {},
     "output_type": "execute_result"
    }
   ],
   "source": [
    "# Create a monthly document based on time etherogenous frequencies headlines\n",
    "months = []\n",
    "for t in range(len(python_date)):\n",
    "    months.append(python_date[t].month)\n",
    "df = pd.DataFrame()\n",
    "df[\"months\"] = months\n",
    "df[\"document\"] = \"\"\n",
    "df[\"Dates\"] = python_date\n",
    "df[\"Dates\"] = df[\"Dates\"] - pd.tseries.offsets.MonthEnd()\n",
    "# Add the monthly index to the original data\n",
    "df_row[\"months\"] = months\n",
    "# merging \"daily\" headlines into a monthly document\n",
    "for m in np.unique(months):\n",
    "    this_month_document = df_row[\"headline\"][df_row[\"months\"]==m]\n",
    "    df[\"document\"][df[\"months\"]==m] = ' '.join(this_month_document)\n",
    "df = df.set_index('Dates')\n",
    "df = df.drop([\"months\"], axis = 1)\n",
    "df.drop_duplicates(inplace = True)\n",
    "df"
   ]
  },
  {
   "cell_type": "markdown",
   "metadata": {},
   "source": [
    "## Clean text from punctuation and convert to lower case"
   ]
  },
  {
   "cell_type": "code",
   "execution_count": 8,
   "metadata": {
    "pycharm": {
     "is_executing": false,
     "name": "#%%\n"
    }
   },
   "outputs": [],
   "source": [
    "documents = df[\"headline\"]\n",
    "for i in range(len(documents)):\n",
    "    # convert to lower case\n",
    "    documents[i] = documents[i].lower()\n",
    "    # take out non words\n",
    "    documents[i] = re.sub(r'\\W',' ',documents[i])\n",
    "    # drop multiple spaces\n",
    "    documents[i] = re.sub(r'\\s+',' ',documents[i])"
   ]
  },
  {
   "cell_type": "markdown",
   "metadata": {},
   "source": [
    "## Remove stopwords (words that do not add any value) and empty"
   ]
  },
  {
   "cell_type": "code",
   "execution_count": 9,
   "metadata": {
    "pycharm": {
     "is_executing": false,
     "name": "#%% \n"
    }
   },
   "outputs": [],
   "source": [
    "from nltk.corpus import stopwords\n",
    "stop_words = set(stopwords.words('english')).union([\"\"])\n",
    "import copy\n",
    "filtered_documents = copy.deepcopy(documents)\n",
    "for j in range(len(documents)):\n",
    "    filtered_documents[j] = [w for w in documents[j].split(\" \") if not w in stop_words]"
   ]
  },
  {
   "cell_type": "markdown",
   "metadata": {},
   "source": [
    "#### Split documents into words-components and put them into a list + create a set with all the words (non duplicates)"
   ]
  },
  {
   "cell_type": "code",
   "execution_count": 10,
   "metadata": {
    "pycharm": {
     "is_executing": false,
     "name": "#%%\n"
    }
   },
   "outputs": [],
   "source": [
    "list_documents = []\n",
    "total = []\n",
    "for j in range(len(filtered_documents)):\n",
    "    this_document = filtered_documents[j]\n",
    "    list_documents.append(this_document)\n",
    "    total = set(total).union(set(this_document))"
   ]
  },
  {
   "cell_type": "markdown",
   "metadata": {},
   "source": [
    "## Count words in each sentence"
   ]
  },
  {
   "cell_type": "code",
   "execution_count": 11,
   "metadata": {
    "pycharm": {
     "is_executing": false,
     "name": "#%%\n"
    }
   },
   "outputs": [],
   "source": [
    "wordDict = []\n",
    "# Create a dictionary with all words\n",
    "Doc_count_word = dict.fromkeys(total, 0)\n",
    "for j in range(len(filtered_documents)):\n",
    "    this_wordDict = dict.fromkeys(total, 0) \n",
    "    #print(this_wordDict)\n",
    "    for word in filtered_documents[j]:\n",
    "        #print(word)\n",
    "        #print(this_wordDict[word])\n",
    "        # count how many documents contain the word\n",
    "        if this_wordDict[word] == 0 : Doc_count_word[word] += 1\n",
    "        #print(word)\n",
    "        # plus count how many times the word is contained into the document\n",
    "        this_wordDict[word] += 1\n",
    "        #print(this_wordDict[word])\n",
    "    wordDict.append(this_wordDict) "
   ]
  },
  {
   "cell_type": "markdown",
   "metadata": {},
   "source": [
    "## compute the term frequency (n times words / total words)"
   ]
  },
  {
   "cell_type": "code",
   "execution_count": 12,
   "metadata": {
    "pycharm": {
     "is_executing": false,
     "name": "#%%\n"
    }
   },
   "outputs": [],
   "source": [
    "# https://www.freecodecamp.org/news/how-to-process-textual-data-using-tf-idf-in-python-cd2bbc0a94a3/\n",
    "tfAll = []\n",
    "for j in range(len(wordDict)):\n",
    "    tfAll.append(mf.computeTF(wordDict[j], list_documents[j]))"
   ]
  },
  {
   "cell_type": "markdown",
   "metadata": {},
   "source": [
    "## Compute Inverse Data Frequency (idf)"
   ]
  },
  {
   "cell_type": "code",
   "execution_count": 13,
   "metadata": {
    "pycharm": {
     "is_executing": false,
     "name": "#%%\n"
    }
   },
   "outputs": [],
   "source": [
    "#log10(number of documents on / number of documents containing the word)\n",
    "\n",
    "idfs = mf.computeIDF(Doc_count_word, len(wordDict))\n",
    "# Compute TFidf\n",
    "TFidf = []\n",
    "for j in range(len(wordDict)):\n",
    "    TFidf.append(mf.computeTFIDF(tfAll[j], idfs))\n",
    "df_TFidf = pd.DataFrame(TFidf)"
   ]
  },
  {
   "cell_type": "markdown",
   "metadata": {},
   "source": [
    "## Import dictionaries (words)"
   ]
  },
  {
   "cell_type": "code",
   "execution_count": 14,
   "metadata": {
    "pycharm": {
     "is_executing": false,
     "name": "#%%\n"
    }
   },
   "outputs": [],
   "source": [
    "# see link if you'd like to know about GI and LM words.\n",
    "# https://cran.r-project.org/web/packages/SentimentAnalysis/SentimentAnalysis.pdf\n",
    "positives_all = list(pd.read_csv(\"Positive.csv\")[\"both\"].dropna())\n",
    "negatives_all = list(pd.read_csv(\"Negative.csv\")[\"both\"].dropna())\n",
    "positives_LM = list(pd.read_csv(\"Positive.csv\")[\"LM\"].dropna())\n",
    "negatives_LM = list(pd.read_csv(\"Negative.csv\")[\"LM\"].dropna())\n",
    "positives_GI = list(pd.read_csv(\"Positive.csv\")[\"GI\"].dropna())\n",
    "negatives_GI = list(pd.read_csv(\"Negative.csv\")[\"GI\"].dropna())"
   ]
  },
  {
   "cell_type": "markdown",
   "metadata": {},
   "source": [
    "## Map words to numbers using the three dictionaries"
   ]
  },
  {
   "cell_type": "code",
   "execution_count": 15,
   "metadata": {
    "pycharm": {
     "is_executing": false,
     "name": "#%%\n"
    }
   },
   "outputs": [],
   "source": [
    "Doc_word_LM = mf.map_word_to_sent(Doc_count_word, positives_LM, negatives_LM, similarity_check = False)\n",
    "Doc_word_GI = mf.map_word_to_sent(Doc_count_word, positives_GI, negatives_GI, similarity_check = False)\n",
    "Doc_word_all = mf.map_word_to_sent(Doc_count_word, positives_all, negatives_all, similarity_check = True)"
   ]
  },
  {
   "cell_type": "markdown",
   "metadata": {},
   "source": [
    "## Compute scores by weighting the words by the weights obtaining using TFidf"
   ]
  },
  {
   "cell_type": "code",
   "execution_count": 16,
   "metadata": {
    "pycharm": {
     "is_executing": false,
     "name": "#%%\n"
    }
   },
   "outputs": [],
   "source": [
    "df_scores_GI = copy.deepcopy(df_TFidf)\n",
    "df_scores_LM = copy.deepcopy(df_TFidf)\n",
    "df_scores_all = copy.deepcopy(df_TFidf)\n",
    "for this_key in df_scores_all.keys():\n",
    "    df_scores_GI[this_key] = df_scores_GI[this_key]*Doc_word_GI[this_key]\n",
    "    df_scores_LM[this_key] = df_scores_LM[this_key]*Doc_word_LM[this_key]\n",
    "    df_scores_all[this_key] = df_scores_all[this_key]*Doc_word_all[this_key]"
   ]
  },
  {
   "cell_type": "markdown",
   "metadata": {},
   "source": [
    "## Put in a unique dataframe"
   ]
  },
  {
   "cell_type": "code",
   "execution_count": 17,
   "metadata": {
    "pycharm": {
     "is_executing": false,
     "name": "#%%\n"
    }
   },
   "outputs": [],
   "source": [
    "final_df = pd.DataFrame()\n",
    "final_df[\"sentiment_index_GI\"] = df_scores_GI.sum(axis = 1)\n",
    "final_df[\"sentiment_index_LM\"] = df_scores_LM.sum(axis = 1)\n",
    "final_df[\"sentiment_index_all\"] = df_scores_all.sum(axis = 1)\n",
    "final_df[\"Dates\"] = df.index\n",
    "final_df = final_df.set_index('Dates')\n"
   ]
  },
  {
   "cell_type": "markdown",
   "metadata": {},
   "source": [
    "## Get week numbers and date entries by weeks"
   ]
  },
  {
   "cell_type": "code",
   "execution_count": 18,
   "metadata": {},
   "outputs": [
    {
     "data": {
      "text/html": [
       "<div>\n",
       "<style scoped>\n",
       "    .dataframe tbody tr th:only-of-type {\n",
       "        vertical-align: middle;\n",
       "    }\n",
       "\n",
       "    .dataframe tbody tr th {\n",
       "        vertical-align: top;\n",
       "    }\n",
       "\n",
       "    .dataframe thead th {\n",
       "        text-align: right;\n",
       "    }\n",
       "</style>\n",
       "<table border=\"1\" class=\"dataframe\">\n",
       "  <thead>\n",
       "    <tr style=\"text-align: right;\">\n",
       "      <th></th>\n",
       "      <th>year</th>\n",
       "      <th>week</th>\n",
       "      <th>sentiment_index_GI</th>\n",
       "      <th>sentiment_index_LM</th>\n",
       "      <th>sentiment_index_all</th>\n",
       "      <th>Dates</th>\n",
       "    </tr>\n",
       "    <tr>\n",
       "      <th>Dates</th>\n",
       "      <th></th>\n",
       "      <th></th>\n",
       "      <th></th>\n",
       "      <th></th>\n",
       "      <th></th>\n",
       "      <th></th>\n",
       "    </tr>\n",
       "  </thead>\n",
       "  <tbody>\n",
       "    <tr>\n",
       "      <th>2016-05-15</th>\n",
       "      <td>2016</td>\n",
       "      <td>19</td>\n",
       "      <td>0.000000</td>\n",
       "      <td>0.000000</td>\n",
       "      <td>-0.782503</td>\n",
       "      <td>2016-05-15</td>\n",
       "    </tr>\n",
       "    <tr>\n",
       "      <th>2016-05-22</th>\n",
       "      <td>2016</td>\n",
       "      <td>20</td>\n",
       "      <td>-0.013991</td>\n",
       "      <td>-0.082085</td>\n",
       "      <td>0.057780</td>\n",
       "      <td>2016-05-22</td>\n",
       "    </tr>\n",
       "    <tr>\n",
       "      <th>2016-06-05</th>\n",
       "      <td>2016</td>\n",
       "      <td>22</td>\n",
       "      <td>0.000000</td>\n",
       "      <td>0.000000</td>\n",
       "      <td>0.613475</td>\n",
       "      <td>2016-06-05</td>\n",
       "    </tr>\n",
       "    <tr>\n",
       "      <th>2016-06-12</th>\n",
       "      <td>2016</td>\n",
       "      <td>23</td>\n",
       "      <td>0.000000</td>\n",
       "      <td>0.000000</td>\n",
       "      <td>0.142634</td>\n",
       "      <td>2016-06-12</td>\n",
       "    </tr>\n",
       "    <tr>\n",
       "      <th>2016-06-19</th>\n",
       "      <td>2016</td>\n",
       "      <td>24</td>\n",
       "      <td>0.000000</td>\n",
       "      <td>0.000000</td>\n",
       "      <td>0.077613</td>\n",
       "      <td>2016-06-19</td>\n",
       "    </tr>\n",
       "  </tbody>\n",
       "</table>\n",
       "</div>"
      ],
      "text/plain": [
       "            year  week  sentiment_index_GI  sentiment_index_LM  \\\n",
       "Dates                                                            \n",
       "2016-05-15  2016    19            0.000000            0.000000   \n",
       "2016-05-22  2016    20           -0.013991           -0.082085   \n",
       "2016-06-05  2016    22            0.000000            0.000000   \n",
       "2016-06-12  2016    23            0.000000            0.000000   \n",
       "2016-06-19  2016    24            0.000000            0.000000   \n",
       "\n",
       "            sentiment_index_all      Dates  \n",
       "Dates                                       \n",
       "2016-05-15            -0.782503 2016-05-15  \n",
       "2016-05-22             0.057780 2016-05-22  \n",
       "2016-06-05             0.613475 2016-06-05  \n",
       "2016-06-12             0.142634 2016-06-12  \n",
       "2016-06-19             0.077613 2016-06-19  "
      ]
     },
     "execution_count": 18,
     "metadata": {},
     "output_type": "execute_result"
    }
   ],
   "source": [
    "weeks = [i.isocalendar()[1] for i in python_date]\n",
    "#months = [i.month for i in python_date]\n",
    "final_df['week'] = weeks\n",
    "#final_df['month'] = months\n",
    "final_df['year'] = [python_date[i].year for i in range(len(python_date))]; final_df.head()\n",
    "final_df = final_df.groupby(['year', 'week']).mean().reset_index()\n",
    "#final_df = final_df.groupby(['year', 'month']).mean().reset_index()\n",
    "\n",
    "final_df['Dates'] = final_df['year'].astype(str) + \" \" + final_df['week'].astype(str)\n",
    "final_df['Dates'] = [datetime.strptime(i + ' 0', \"%Y %W %w\") for i in final_df['Dates']]\n",
    "final_df.index = final_df['Dates'].reset_index(drop=True)\n",
    "final_df.head()"
   ]
  },
  {
   "cell_type": "code",
   "execution_count": 20,
   "metadata": {},
   "outputs": [
    {
     "data": {
      "text/html": [
       "<div>\n",
       "<style scoped>\n",
       "    .dataframe tbody tr th:only-of-type {\n",
       "        vertical-align: middle;\n",
       "    }\n",
       "\n",
       "    .dataframe tbody tr th {\n",
       "        vertical-align: top;\n",
       "    }\n",
       "\n",
       "    .dataframe thead th {\n",
       "        text-align: right;\n",
       "    }\n",
       "</style>\n",
       "<table border=\"1\" class=\"dataframe\">\n",
       "  <thead>\n",
       "    <tr style=\"text-align: right;\">\n",
       "      <th></th>\n",
       "      <th>year</th>\n",
       "      <th>week</th>\n",
       "      <th>sentiment_index_GI</th>\n",
       "      <th>sentiment_index_LM</th>\n",
       "      <th>sentiment_index_all</th>\n",
       "      <th>Dates</th>\n",
       "    </tr>\n",
       "    <tr>\n",
       "      <th>Dates</th>\n",
       "      <th></th>\n",
       "      <th></th>\n",
       "      <th></th>\n",
       "      <th></th>\n",
       "      <th></th>\n",
       "      <th></th>\n",
       "    </tr>\n",
       "  </thead>\n",
       "  <tbody>\n",
       "    <tr>\n",
       "      <th>2016-05-15</th>\n",
       "      <td>2016</td>\n",
       "      <td>19</td>\n",
       "      <td>0.000000</td>\n",
       "      <td>0.000000</td>\n",
       "      <td>-0.782503</td>\n",
       "      <td>2016-05-15</td>\n",
       "    </tr>\n",
       "    <tr>\n",
       "      <th>2016-05-22</th>\n",
       "      <td>2016</td>\n",
       "      <td>20</td>\n",
       "      <td>-0.013991</td>\n",
       "      <td>-0.082085</td>\n",
       "      <td>0.057780</td>\n",
       "      <td>2016-05-22</td>\n",
       "    </tr>\n",
       "    <tr>\n",
       "      <th>2016-06-05</th>\n",
       "      <td>2016</td>\n",
       "      <td>22</td>\n",
       "      <td>0.000000</td>\n",
       "      <td>0.000000</td>\n",
       "      <td>0.613475</td>\n",
       "      <td>2016-06-05</td>\n",
       "    </tr>\n",
       "    <tr>\n",
       "      <th>2016-06-12</th>\n",
       "      <td>2016</td>\n",
       "      <td>23</td>\n",
       "      <td>0.000000</td>\n",
       "      <td>0.000000</td>\n",
       "      <td>0.142634</td>\n",
       "      <td>2016-06-12</td>\n",
       "    </tr>\n",
       "    <tr>\n",
       "      <th>2016-06-19</th>\n",
       "      <td>2016</td>\n",
       "      <td>24</td>\n",
       "      <td>0.000000</td>\n",
       "      <td>0.000000</td>\n",
       "      <td>0.077613</td>\n",
       "      <td>2016-06-19</td>\n",
       "    </tr>\n",
       "  </tbody>\n",
       "</table>\n",
       "</div>"
      ],
      "text/plain": [
       "            year  week  sentiment_index_GI  sentiment_index_LM  \\\n",
       "Dates                                                            \n",
       "2016-05-15  2016    19            0.000000            0.000000   \n",
       "2016-05-22  2016    20           -0.013991           -0.082085   \n",
       "2016-06-05  2016    22            0.000000            0.000000   \n",
       "2016-06-12  2016    23            0.000000            0.000000   \n",
       "2016-06-19  2016    24            0.000000            0.000000   \n",
       "\n",
       "            sentiment_index_all      Dates  \n",
       "Dates                                       \n",
       "2016-05-15            -0.782503 2016-05-15  \n",
       "2016-05-22             0.057780 2016-05-22  \n",
       "2016-06-05             0.613475 2016-06-05  \n",
       "2016-06-12             0.142634 2016-06-12  \n",
       "2016-06-19             0.077613 2016-06-19  "
      ]
     },
     "execution_count": 20,
     "metadata": {},
     "output_type": "execute_result"
    }
   ],
   "source": [
    "final_df['Dates'] = final_df['year'].astype(str) + \" \" + final_df['week'].astype(str)\n",
    "final_df['Dates'] = [datetime.strptime(i + ' 0', \"%Y %W %w\") for i in final_df['Dates']]\n",
    "final_df.index = final_df['Dates'].reset_index(drop=True)\n",
    "final_df.head()"
   ]
  },
  {
   "cell_type": "markdown",
   "metadata": {},
   "source": [
    "## SP500 and Amazon"
   ]
  },
  {
   "cell_type": "code",
   "execution_count": 21,
   "metadata": {},
   "outputs": [],
   "source": [
    "import pandas_datareader.data as web\n",
    "import datetime as dt\n",
    "\n",
    "start = dt.datetime(2016,5,1)\n",
    "end = dt.datetime(2021,1, 1)\n",
    "amazon = web.get_data_yahoo('amzn', start, end, interval='w')['Adj Close']\n",
    "spx = web.get_data_yahoo('spy', start, end, interval='w')['Adj Close']\n",
    "\n",
    "amazonR = np.log(amazon) - np.log(amazon.shift(1))\n",
    "spxR = np.log(spx) - np.log(spx.shift(1))"
   ]
  },
  {
   "cell_type": "code",
   "execution_count": 22,
   "metadata": {},
   "outputs": [],
   "source": [
    "exReturns = (amazonR-spxR)\n",
    "exReturns = pd.DataFrame(amazonR-spxR)\n",
    "exReturns.columns = ['eRets']\n",
    "exReturns = exReturns.iloc[1: , :]\n",
    "\n",
    "exReturns['week'] = [i.isocalendar()[1] for i in exReturns.index]\n",
    "#exReturns['month'] = [i.isocalendar()[1] for i in exReturns.index]\n",
    "exReturns['year'] = [i.year for i in exReturns.index]\n",
    "exReturns['Dates'] = exReturns['year'].astype(str) + \" \" + exReturns['week'].astype(str)\n",
    "exReturns['Dates'] = [datetime.strptime(i + ' 0', \"%Y %W %w\") for i in exReturns['Dates']]"
   ]
  },
  {
   "cell_type": "code",
   "execution_count": 27,
   "metadata": {},
   "outputs": [
    {
     "name": "stdout",
     "output_type": "stream",
     "text": [
      "[[2.51861615e-01 1.77257865e-05]\n",
      " [1.77257865e-05 7.61283763e-04]]\n"
     ]
    },
    {
     "data": {
      "text/html": [
       "<div>\n",
       "<style scoped>\n",
       "    .dataframe tbody tr th:only-of-type {\n",
       "        vertical-align: middle;\n",
       "    }\n",
       "\n",
       "    .dataframe tbody tr th {\n",
       "        vertical-align: top;\n",
       "    }\n",
       "\n",
       "    .dataframe thead th {\n",
       "        text-align: right;\n",
       "    }\n",
       "</style>\n",
       "<table border=\"1\" class=\"dataframe\">\n",
       "  <thead>\n",
       "    <tr style=\"text-align: right;\">\n",
       "      <th></th>\n",
       "      <th>year</th>\n",
       "      <th>week</th>\n",
       "      <th>sentiment_index_GI</th>\n",
       "      <th>sentiment_index_LM</th>\n",
       "      <th>sentiment_index_all</th>\n",
       "      <th>Dates_x</th>\n",
       "      <th>eRets</th>\n",
       "      <th>Dates_y</th>\n",
       "    </tr>\n",
       "  </thead>\n",
       "  <tbody>\n",
       "    <tr>\n",
       "      <th>0</th>\n",
       "      <td>2016</td>\n",
       "      <td>19</td>\n",
       "      <td>0.000000</td>\n",
       "      <td>0.000000</td>\n",
       "      <td>-0.782503</td>\n",
       "      <td>2016-05-15</td>\n",
       "      <td>0.056674</td>\n",
       "      <td>2016-05-15</td>\n",
       "    </tr>\n",
       "    <tr>\n",
       "      <th>1</th>\n",
       "      <td>2016</td>\n",
       "      <td>20</td>\n",
       "      <td>-0.013991</td>\n",
       "      <td>-0.082085</td>\n",
       "      <td>0.057780</td>\n",
       "      <td>2016-05-22</td>\n",
       "      <td>-0.013639</td>\n",
       "      <td>2016-05-22</td>\n",
       "    </tr>\n",
       "    <tr>\n",
       "      <th>2</th>\n",
       "      <td>2016</td>\n",
       "      <td>22</td>\n",
       "      <td>0.000000</td>\n",
       "      <td>0.000000</td>\n",
       "      <td>0.613475</td>\n",
       "      <td>2016-06-05</td>\n",
       "      <td>0.018311</td>\n",
       "      <td>2016-06-05</td>\n",
       "    </tr>\n",
       "    <tr>\n",
       "      <th>3</th>\n",
       "      <td>2016</td>\n",
       "      <td>23</td>\n",
       "      <td>0.000000</td>\n",
       "      <td>0.000000</td>\n",
       "      <td>0.142634</td>\n",
       "      <td>2016-06-12</td>\n",
       "      <td>-0.009573</td>\n",
       "      <td>2016-06-12</td>\n",
       "    </tr>\n",
       "    <tr>\n",
       "      <th>4</th>\n",
       "      <td>2016</td>\n",
       "      <td>24</td>\n",
       "      <td>0.000000</td>\n",
       "      <td>0.000000</td>\n",
       "      <td>0.077613</td>\n",
       "      <td>2016-06-19</td>\n",
       "      <td>0.000867</td>\n",
       "      <td>2016-06-19</td>\n",
       "    </tr>\n",
       "  </tbody>\n",
       "</table>\n",
       "</div>"
      ],
      "text/plain": [
       "   year  week  sentiment_index_GI  sentiment_index_LM  sentiment_index_all  \\\n",
       "0  2016    19            0.000000            0.000000            -0.782503   \n",
       "1  2016    20           -0.013991           -0.082085             0.057780   \n",
       "2  2016    22            0.000000            0.000000             0.613475   \n",
       "3  2016    23            0.000000            0.000000             0.142634   \n",
       "4  2016    24            0.000000            0.000000             0.077613   \n",
       "\n",
       "     Dates_x     eRets    Dates_y  \n",
       "0 2016-05-15  0.056674 2016-05-15  \n",
       "1 2016-05-22 -0.013639 2016-05-22  \n",
       "2 2016-06-05  0.018311 2016-06-05  \n",
       "3 2016-06-12 -0.009573 2016-06-12  \n",
       "4 2016-06-19  0.000867 2016-06-19  "
      ]
     },
     "execution_count": 27,
     "metadata": {},
     "output_type": "execute_result"
    }
   ],
   "source": [
    "data = final_df.merge(exReturns, on=['week', 'year'])\n",
    "\n",
    "print(np.cov(data.sentiment_index_all, data.eRets))\n",
    "data.head()"
   ]
  },
  {
   "cell_type": "code",
   "execution_count": 34,
   "metadata": {},
   "outputs": [
    {
     "data": {
      "image/png": "[encoded data removed]",
      "text/plain": [
       "<Figure size 2160x576 with 1 Axes>"
      ]
     },
     "metadata": {
      "needs_background": "light"
     },
     "output_type": "display_data"
    }
   ],
   "source": [
    "# Plot all of them - if plot does not show, just run this block a second time\n",
    "import matplotlib.pyplot as plt\n",
    "fig, ax = plt.subplots(figsize=(30,8))\n",
    "ax.plot(final_df[\"sentiment_index_GI\"]*10, label = \"sentiment index GI * 10\")\n",
    "ax.plot(final_df[\"sentiment_index_LM\"]*10, label = \"sentiment index LM * 10\")\n",
    "#ax.plot(final_df[\"sentiment_index_all\"]*10, label = \"sentiment index all * 10\")\n",
    "ax.plot(exReturns.eRets*10, label = \"Excess returns * 10\",)\n",
    "ax.set_xlabel('Date')\n",
    "ax.legend()\n",
    "ax.grid()\n",
    "plt.show()"
   ]
  },
  {
   "cell_type": "markdown",
   "metadata": {},
   "source": [
    "# FinBERT"
   ]
  },
  {
   "cell_type": "code",
   "execution_count": 4,
   "metadata": {},
   "outputs": [],
   "source": [
    "# FinBERT is a pre-trained NLP model to analyze sentiment of financial text. \n",
    "# It is built by further training the BERT language model in the finance domain, \n",
    "# using a large financial corpus and thereby fine-tuning it for financial sentiment classification.\n",
    "\n",
    "# What data was FinBERT trained on? \n",
    "\n",
    "# The data used to train FibBERT is text from financial news services, \n",
    "# as well as the FiQA dataset. \n",
    "# https://sites.google.com/view/fiqa/\n",
    "\n",
    "# For the financial news:\n",
    "# e.g.\n",
    "# \"the annotators were asked to give labels according to how they think the information \n",
    "# in the sentence might affect the mentioned company stock price.\"\n",
    "\n",
    "# In other words, sentiment here is more-or-less a proxy for how people felt certain news and information would affect a company's price. \n",
    "# Negative sentiment would lead to a stock losing value while positive sentiment would of course result in this guy:"
   ]
  },
  {
   "cell_type": "code",
   "execution_count": 5,
   "metadata": {},
   "outputs": [
    {
     "data": {
      "text/html": [
       "<div>\n",
       "<style scoped>\n",
       "    .dataframe tbody tr th:only-of-type {\n",
       "        vertical-align: middle;\n",
       "    }\n",
       "\n",
       "    .dataframe tbody tr th {\n",
       "        vertical-align: top;\n",
       "    }\n",
       "\n",
       "    .dataframe thead th {\n",
       "        text-align: right;\n",
       "    }\n",
       "</style>\n",
       "<table border=\"1\" class=\"dataframe\">\n",
       "  <thead>\n",
       "    <tr style=\"text-align: right;\">\n",
       "      <th></th>\n",
       "      <th>Unnamed: 0</th>\n",
       "      <th>headline</th>\n",
       "      <th>date</th>\n",
       "    </tr>\n",
       "  </thead>\n",
       "  <tbody>\n",
       "    <tr>\n",
       "      <th>0</th>\n",
       "      <td>0</td>\n",
       "      <td>Suing Google Won’t Help Consumers</td>\n",
       "      <td>2020-10-20</td>\n",
       "    </tr>\n",
       "    <tr>\n",
       "      <th>1</th>\n",
       "      <td>1</td>\n",
       "      <td>What to Watch: A Cartoonist Gets ‘Woke,’ ‘Coas...</td>\n",
       "      <td>2020-09-10</td>\n",
       "    </tr>\n",
       "    <tr>\n",
       "      <th>2</th>\n",
       "      <td>2</td>\n",
       "      <td>What to Watch: With ‘Cobra Kai,’ a Middle-Aged...</td>\n",
       "      <td>2020-09-02</td>\n",
       "    </tr>\n",
       "    <tr>\n",
       "      <th>3</th>\n",
       "      <td>3</td>\n",
       "      <td>That Shooting Star You See in the Sky May Well...</td>\n",
       "      <td>2020-08-09</td>\n",
       "    </tr>\n",
       "    <tr>\n",
       "      <th>4</th>\n",
       "      <td>4</td>\n",
       "      <td>How Tim Gunn Made It Work</td>\n",
       "      <td>2020-06-09</td>\n",
       "    </tr>\n",
       "  </tbody>\n",
       "</table>\n",
       "</div>"
      ],
      "text/plain": [
       "   Unnamed: 0                                           headline        date\n",
       "0           0                  Suing Google Won’t Help Consumers  2020-10-20\n",
       "1           1  What to Watch: A Cartoonist Gets ‘Woke,’ ‘Coas...  2020-09-10\n",
       "2           2  What to Watch: With ‘Cobra Kai,’ a Middle-Aged...  2020-09-02\n",
       "3           3  That Shooting Star You See in the Sky May Well...  2020-08-09\n",
       "4           4                          How Tim Gunn Made It Work  2020-06-09"
      ]
     },
     "execution_count": 5,
     "metadata": {},
     "output_type": "execute_result"
    }
   ],
   "source": [
    "# We quickly noticed that naive approaches such as bag-of-words would simply not cut it, \n",
    "# as they generally disregard essential context information in the text. \n",
    "# We needed more advanced techniques to crack the financial context and understand \n",
    "# what is positive and what is negative from the financial point of view.\n",
    "\n",
    "# We'll read the .csv file with Pandas Python library and print a little snippet.\n",
    "\n",
    "# Please run this part under the Pytorch environment\n",
    "\n",
    "import pandas\n",
    "\n",
    "headlines_df = pandas.read_csv('Amazon_data')\n",
    "headlines_df.head(5)"
   ]
  },
  {
   "cell_type": "code",
   "execution_count": 6,
   "metadata": {},
   "outputs": [
    {
     "name": "stdout",
     "output_type": "stream",
     "text": [
      "['Amazon Cracks Down on Scams, Fires Employees Over Data Leak', 'Bezos Pledges $2 Billion for Charity', 'Amazon May Still See Benefits From Failed New York Courting Process', 'Big Tech’s Welcome Mat Is Fraying', 'Welcome to New York, Amazon—Now Go Home', 'After Amazon HQ2, Uproar in New York Over Real Estate ‘Insider Trading’', 'Amazon Picks New York City, Northern Virginia for Its HQ2 Locations', 'How One Bookstore Succeeds in the Amazon Age', 'Amazon Reports Third Record Profit in a Row', 'Big Tech’s Hot New Talent Incubator: Community College', 'Stop Bezos From Hiring Poor People?', 'Department-Store Woes Catch Up to Kohl’s', 'Competition for Tech Talent Is Tight', 'Amazon Slashed Prices at Whole Foods; Now They’re Going Up', 'How Tech is Drawing Shoppers Back to Bricks-and-Mortar Stores', 'The Score: The Business Week in 7 Stocks', '‘Marvelous Mrs. Maisel’ Readies Its Second Season', 'Why Amazon Needs to Do Everything', 'Amazon in Late-Stage Talks for HQ2 Location', 'Amazon HQ2 Runs Into Community Activists in Virginia, Too', 'Amazon Project Foundered on Labor Organizing, Debate Over Subsidies', '‘Hunters’ Mixes Nazis, Heroes, Al Pacino to Examine Scars of Holocaust', 'Amazon’s Pivot Raises Scrutiny of Incentive Deals', 'Amazon’s Wage Increase Pressures Employers to Follow', 'De Blasio Believes New York Will Turn Amazon Into Union-Friendly Company', 'Amazon Could Deliver Bad News for Uber', 'How Amazon Puts Consumers at Risk', 'Leadership and Life Lessons from Amazon’s Jeff Bezos', 'For Lower-Paid Workers, the Robot Overlords Have Arrived', 'AMD’s Cloud Payoff Will Come—Eventually', 'Silicon Valley to Big Oil: We Can Manage Your Data Better Than You', 'Kroger Sales Fall Short, Driving Shares Down', 'Amazon, With Little Fanfare, Emerges as Advertising Giant', 'The Many Places Amazon CEO Jeff Bezos Calls Home', 'Alibaba-Net-a-Porter Is New Front in China’s Luxury War', 'Not Just NIMBYism: Amazon’s HQ2 Opponents Dig In for Long Fight', 'Why Big Tech Keeps Trying Its Hand at Hardware', 'How Robots and Drones Will Change Retail Forever', 'Jeff Bezos’ Space Startup to Supply Engines for Boeing-Lockheed Rocket Venture', 'Today, Anybody Can Be a Filmmaker. Here’s What It Might Cost', 'India Looks to Curb U.S. Tech Giants', 'Why Amazon Needs Others to Keep Selling', 'Amazon’s Exit Could Have Repercussions on Long Island', 'EBay Accuses Amazon of Illegally Poaching Sellers', 'Progressive Democrats Claim Victory as Amazon Scraps New York Plans', 'Déjà View: The Psychology Behind the ‘Rewatch’', 'Fears About Tech-Stock Multiples Don’t Add Up, Bulls Say', 'Cuomo Tightens Control Over Board Tied to Amazon Deal’s Undoing', 'How to Save the Amazon', 'Amazon Invests in Electric-Car Maker Rivian', 'Amazon’s IMDb Launches Free Streaming-Video Service', 'Amazon’s Slip Wasn’t a Blip', 'Mueller’s Restrained Approach May Clash With Democrats’ Agenda', 'How Tim Gunn Made It Work', 'Amazon Looks to Keep Profits Flowing', 'The New TV Comedies Trade Jokes for Existential Inquiries', 'When a Pipe Bursts at Amazon, This Engineer Jumps Into Action', 'AmEx Turns to Amazon for Credit Card Focused On Small Businesses', 'New York Unemployment Falls to Lowest Since 1988', 'Amazon Reconsidering Plan to Put Campus in New York City', '‘They Own the System’: Amazon Rewrites Book Industry by Marching Into Publishing', 'Instagram Takes on Amazon With New Shopping Feature', 'Online Pharmacy Capsule Looks to Expand Nationwide', 'Unicorns Bet Big on Amazon’s Cloud', 'Amazon Cancels HQ2 Plans in New York City', 'Siri, Why Do I Feel Like I’m Being Watched?', 'The Amazon: The Heart of the World', 'Amazon Is No. 1, for Now', 'Amazon HQ2 Plans Could Make Defense Hiring Even More Competitive', 'Amazon Fires Employee for Sharing Customer Emails', 'Nasdaq Passes 8000 for First Time', 'Fiat Chrysler Appoints Auto Veteran to Lead North American Operations', 'Crystal City Properties Were a Bust. Then Amazon Called.', 'Amazon Employees Join Long Island City Condo Rush', 'Amazon Aims to Test All Employees for Covid-19', 'What to Watch: With ‘Cobra Kai,’ a Middle-Aged Karate Kid Feud Has Become a Netflix Hit', 'Amazon Hits $1 Trillion Valuation', 'Investors Step Back From Social-Media Highfliers', 'The Next Test for Markets: Tech Earnings', 'The Prime Effect: How Amazon’s Two-Day Shipping Is Disrupting Retail', 'Rizzo’s Take: What Will Holiday Toy Sales Look Like Without Toys ‘R’ Us?', 'Nurse Alexa Needs an Ethical Foundation', 'The Seattle Hotel Playbook', 'What to Watch: A Cartoonist Gets ‘Woke,’ ‘Coastal Elites’ Bare All', 'India Antitrust Watchdog Sniffs Around E-Commerce Players', 'Amazon, New York and the End of Corporate Welfare', 'Tech Executives Warn of Overregulation in Privacy Push', 'Is It Really Five Stars? How to Spot Fake Amazon Reviews', 'Big Warehouse Owner Plans to Go Public', 'Behind PillPack’s $1 Billion Sale, a Frustrated 32-Year-Old Pharmacist', 'The Other Reason Amazon Will Pay Workers More', 'Companies Find Benefits in Streamlining Authority', 'The Score: The Business Week in 7 Stocks', 'More Than Just Netflix: Navigate the Changing World of Streaming', 'After Years on the Right, Dennis Miller Wants to Find Comedy’s Middle Ground', 'Germany Opens Amazon Antitrust Probe, Adding to European Scrutiny', 'Entrepreneur Michael Rubin Got an Early Start', 'Everyone Wants to be the Next ‘Game of Thrones’', 'Good Times Shouldn’t Mask Amazon’s Threat to Retailers', 'New Era at Amazon’s Whole Foods Grates on Some Employees', 'Tech Stocks Retreat as Hearing Proceeds', 'Amazon Won’t Be Second to Apple for Long', 'Who’s Who in Fight Between Jeff Bezos and the National Enquirer', 'Jack Ryan Returns, This Time on Amazon', 'That Shooting Star You See in the Sky May Well Be a Satellite', 'Search for Amazon HQ2 Sparks Real-Estate Speculation', 'After Amazon HQ2, Some Lawmakers Question Nondisclosure Requirements', 'Walmart Builds a Secret Weapon to Battle Amazon for Retail’s Future', 'Amazon Is Next to Face EU Scrutiny', 'Grocery Giants Tesco, Carrefour Team Up Amid Amazon Threat', 'Amazon Picks NYC, Northern Virginia for Its HQ2 Locations', '‘Amazon Empire: The Rise and Reign of Jeff Bezos’ Review: The Site of Power', 'What Warren Buffett’s Teacher Would Make of Today’s Market', 'Stocks to Watch: Tesla, Facebook, Amazon, Boeing', 'The Canoe-Racing Workout With ‘Hawaiian Values’', 'Jeff Bezos Buys Fifth Avenue Condo Spread for Around $80 Million', 'Deepak Chopra’s Path to Enlightenment Runs Through an App', 'Amazon’s Pullout From Queens, N.Y., Stuns Real-Estate Industry', 'Nasdaq Extends Winning Streak to Eighth Session', 'Amazon HQ2 Change Leaves Cities in a Bind', 'Google’s Cloud Is Turning Into a Rainmaker', 'Pentagon Moves Forward with JEDI Contract Despite Ethics Issues', 'Amazon Cutting the CRaP', 'Amazon’s Golden Fleecing', 'Where Tech Tycoons Live Outside Seattle', 'Amazon: A Shiver Runs Through It', 'Trump Calls for End to Discounts for International Mail', 'What Amazon Isn’t Telling Investors About Its Revenue', 'Amazon’s Proxy Becomes Prime Target', 'Suing Google Won’t Help Consumers', 'Microsoft’s Brief Comeback', 'Book Shopping on Amazon? Don’t Be Duped Into Buying a Summary', 'Why Some Companies Succeed in Declining Industries', 'New York City Development Chief Faults Amazon for Scuttled HQ2 Deal', 'Amazon’s India Site Restocked After Joint-Venture Stake Cut', 'Inside the New Amazon 4-Star Store, a Novelty Gift Shop', 'Amazon Glitch Exposes Customer Names, Email Addresses', 'Amazon Plans to Split HQ2 Evenly Between Two Cities', 'SoftBank Explores Taking Majority Stake in WeWork', 'EBay Sues Amazon, Alleging Sellers Were Illegally Poached', 'Dotdash, Riding Wave of Search Traffic, Acquires New Sites', 'Suddenly, Bezos Is Media’s Hero', 'Amazon Website Hit With Glitches as Shoppers Seek Prime Day Deals', 'Amazon Invests in U.K. Food-Delivery Startup Deliveroo', 'How Sellers Trick Amazon to Boost Sales', 'Amazon Invasion in New York and Virginia Will Be a Slow One', 'Jeff Bezos Buys David Geffen’s Los Angeles Mansion for a Record $165 Million', 'Walgreens, FedEx Launch Next-Day Prescription Home Delivery', 'Jeff Bezos to Retain Voting Control of Wife’s Amazon Shares After Divorce', 'Amazon’s Freight Push Rattles Logistics Sector', 'Meet My Co-Parent, the Amazon Echo', 'Landlord, Facing Loss of a Big Tenant, Pins Hopes on Amazon HQ2', 'Your Smart TV Is Only Going to Get Dumber', 'Amazon’s Plan to Move In to Your Next Apartment Before You Do', 'Woody Allen Sues Amazon Studios, Claiming Breach of Contract', 'Amazon Is a Giant. But Bigness Isn’t a Crime.', 'One Independent Movie Theater Struggles to Survive in the Netflix Age', 'Air Transport Services Group Buys Charter Airline for $845 Million', 'Critics Say Amazon’s HQ2 Deal Shortchanges New Yorkers', 'What Makes Bob Newhart Laugh?', 'N.Y. State Senator Who Opposes Amazon Deal Nominated to Board With Sway Over Project', 'Amazon, Google Poised for Race to Hire High-Tech Talent', 'Health Venture of Amazon, Berkshire, JPMorgan Has a Name: Haven', 'Retailers Are Warned to Step Slowly Into One-Day Shipping', 'Amazon’s Bezos: Big Businesses Should Not Be Vilified', 'Bezos Invades Trump’s Backyard', 'America’s Biggest Supermarket Company Struggles With Online Grocery Upheaval', 'Meet the Fixers Pitting States Against Each Other to Win Tax Breaks for New Factories', 'Why Zozo’s Plan to Sell Clothes That Fit Perfectly Didn’t Work Out', 'On Amazon’s ‘Making the Cut’ Fashion Is a Total Bore', 'Stocks to Watch: Morgan Stanley, PG&E, Amazon', 'Amazon Takes Market Cap Crown', 'Amazon Revisits Some Cities as HQ2 Decision Looms', 'Valentine’s Day Tears for New York Realtors', 'Tired of Those Netflix and Amazon ‘Recommendations’? Outwit the Algorithm', 'Despite Stay-at-Home Order, Seattle’s Real-Estate Market Continues to Show Up', 'How Scammers in China Manipulate Amazon', 'You Didn’t Get Amazon HQ2. Now What?', 'Amazon’s New Microwave: ‘Alexa, Please Defrost My Chicken’', 'Alexa: Don’t Let My 2-Year-Old Talk to You That Way']\n"
     ]
    }
   ],
   "source": [
    "# Then, we'll use NumPy to shuffle the entries and convert them to a normal Python list containing the headlines. \n",
    "# This list can be used as an input to the FinBERT model. \n",
    "\n",
    "import numpy as np\n",
    "\n",
    "headlines_array = np.array(headlines_df)\n",
    "np.random.shuffle(headlines_array)\n",
    "headlines_list = list(headlines_array[:,1])\n",
    "\n",
    "print(headlines_list)"
   ]
  },
  {
   "cell_type": "code",
   "execution_count": 7,
   "metadata": {},
   "outputs": [
    {
     "name": "stderr",
     "output_type": "stream",
     "text": [
      "fatal: destination path 'finbert' already exists and is not an empty directory.\n"
     ]
    }
   ],
   "source": [
    "# HuggingFace makes it really easy for us to try out different NLP models. \n",
    "# We can find the FinBERT model on the HuggingFace model hub \n",
    "# & even run a test inference using a little text box right on their website:\n",
    "\n",
    "!git clone https://huggingface.co/ProsusAI/finbert"
   ]
  },
  {
   "cell_type": "code",
   "execution_count": 8,
   "metadata": {},
   "outputs": [
    {
     "name": "stdout",
     "output_type": "stream",
     "text": [
      "Requirement already satisfied: transformers in d:\\program files\\anaconda3\\lib\\site-packages (4.16.2)\n",
      "Requirement already satisfied: tokenizers!=0.11.3,>=0.10.1 in d:\\program files\\anaconda3\\lib\\site-packages (from transformers) (0.11.5)\n",
      "Requirement already satisfied: requests in d:\\program files\\anaconda3\\lib\\site-packages (from transformers) (2.26.0)\n",
      "Requirement already satisfied: regex!=2019.12.17 in d:\\program files\\anaconda3\\lib\\site-packages (from transformers) (2021.8.3)\n",
      "Requirement already satisfied: tqdm>=4.27 in d:\\program files\\anaconda3\\lib\\site-packages (from transformers) (4.62.3)\n",
      "Requirement already satisfied: filelock in d:\\program files\\anaconda3\\lib\\site-packages (from transformers) (3.3.1)\n",
      "Requirement already satisfied: huggingface-hub<1.0,>=0.1.0 in d:\\program files\\anaconda3\\lib\\site-packages (from transformers) (0.4.0)\n",
      "Requirement already satisfied: numpy>=1.17 in d:\\program files\\anaconda3\\lib\\site-packages (from transformers) (1.20.3)\n",
      "Requirement already satisfied: sacremoses in d:\\program files\\anaconda3\\lib\\site-packages (from transformers) (0.0.47)\n",
      "Requirement already satisfied: packaging>=20.0 in d:\\program files\\anaconda3\\lib\\site-packages (from transformers) (21.0)\n",
      "Requirement already satisfied: pyyaml>=5.1 in d:\\program files\\anaconda3\\lib\\site-packages (from transformers) (6.0)\n",
      "Requirement already satisfied: typing-extensions>=3.7.4.3 in d:\\program files\\anaconda3\\lib\\site-packages (from huggingface-hub<1.0,>=0.1.0->transformers) (3.10.0.2)\n",
      "Requirement already satisfied: pyparsing>=2.0.2 in d:\\program files\\anaconda3\\lib\\site-packages (from packaging>=20.0->transformers) (3.0.4)\n",
      "Requirement already satisfied: colorama in d:\\program files\\anaconda3\\lib\\site-packages (from tqdm>=4.27->transformers) (0.4.4)\n",
      "Requirement already satisfied: urllib3<1.27,>=1.21.1 in d:\\program files\\anaconda3\\lib\\site-packages (from requests->transformers) (1.26.7)\n",
      "Requirement already satisfied: certifi>=2017.4.17 in d:\\program files\\anaconda3\\lib\\site-packages (from requests->transformers) (2021.10.8)\n",
      "Requirement already satisfied: idna<4,>=2.5 in d:\\program files\\anaconda3\\lib\\site-packages (from requests->transformers) (3.2)\n",
      "Requirement already satisfied: charset-normalizer~=2.0.0 in d:\\program files\\anaconda3\\lib\\site-packages (from requests->transformers) (2.0.4)\n",
      "Requirement already satisfied: six in d:\\program files\\anaconda3\\lib\\site-packages (from sacremoses->transformers) (1.16.0)\n",
      "Requirement already satisfied: click in d:\\program files\\anaconda3\\lib\\site-packages (from sacremoses->transformers) (8.0.3)\n",
      "Requirement already satisfied: joblib in d:\\program files\\anaconda3\\lib\\site-packages (from sacremoses->transformers) (1.1.0)\n"
     ]
    }
   ],
   "source": [
    "# We'll start off working with the NLP model by installing the HuggingFace transformers library. \n",
    "\n",
    "!pip install transformers\n",
    "\n",
    "# Getting the tokenizer and the model\n",
    "\n",
    "from transformers import AutoTokenizer, AutoModelForSequenceClassification\n",
    "  \n",
    "tokenizer = AutoTokenizer.from_pretrained(\"ProsusAI/finbert\")\n",
    "\n",
    "model = AutoModelForSequenceClassification.from_pretrained(\"ProsusAI/finbert\")\n",
    "\n",
    "# Then, from the HuggingFace Model Hub we'll download the pretrained tokenizer, \n",
    "# which is used to convert text into tokens that NLP models can understand. \n",
    "# We also load the pretrained model itself in a similar way. "
   ]
  },
  {
   "cell_type": "code",
   "execution_count": 9,
   "metadata": {},
   "outputs": [
    {
     "name": "stdout",
     "output_type": "stream",
     "text": [
      "{'input_ids': tensor([[  101,  9733, 15288,  ...,     0,     0,     0],\n",
      "        [  101,  2022, 28370,  ...,     0,     0,     0],\n",
      "        [  101,  9733,  2089,  ...,     0,     0,     0],\n",
      "        ...,\n",
      "        [  101,  2017,  2134,  ...,     0,     0,     0],\n",
      "        [  101,  9733,  1521,  ...,     0,     0,     0],\n",
      "        [  101, 24969,  1024,  ...,     0,     0,     0]]), 'token_type_ids': tensor([[0, 0, 0,  ..., 0, 0, 0],\n",
      "        [0, 0, 0,  ..., 0, 0, 0],\n",
      "        [0, 0, 0,  ..., 0, 0, 0],\n",
      "        ...,\n",
      "        [0, 0, 0,  ..., 0, 0, 0],\n",
      "        [0, 0, 0,  ..., 0, 0, 0],\n",
      "        [0, 0, 0,  ..., 0, 0, 0]]), 'attention_mask': tensor([[1, 1, 1,  ..., 0, 0, 0],\n",
      "        [1, 1, 1,  ..., 0, 0, 0],\n",
      "        [1, 1, 1,  ..., 0, 0, 0],\n",
      "        ...,\n",
      "        [1, 1, 1,  ..., 0, 0, 0],\n",
      "        [1, 1, 1,  ..., 0, 0, 0],\n",
      "        [1, 1, 1,  ..., 0, 0, 0]])}\n"
     ]
    }
   ],
   "source": [
    "# So now we can take the Python list of the headlines we've preprocessed \n",
    "# (note: tokenizer accepts Python lists of strings as input), \n",
    "# and pass them through the tokenizer to preprocess them before being inputted into the model with the following lines of code.\n",
    "\n",
    "# That's where the headlines get tokenized to be inputted into model\n",
    "\n",
    "inputs = tokenizer(headlines_list, padding = True, truncation = True, return_tensors='pt')\n",
    "print(inputs)"
   ]
  },
  {
   "cell_type": "code",
   "execution_count": 11,
   "metadata": {},
   "outputs": [
    {
     "name": "stdout",
     "output_type": "stream",
     "text": [
      "torch.Size([180, 3])\n"
     ]
    }
   ],
   "source": [
    "# Inference\n",
    "\n",
    "outputs = model(**inputs)\n",
    "print(outputs.logits.shape)"
   ]
  },
  {
   "cell_type": "code",
   "execution_count": 12,
   "metadata": {},
   "outputs": [
    {
     "name": "stdout",
     "output_type": "stream",
     "text": [
      "tensor([[0.0081, 0.9571, 0.0347],\n",
      "        [0.2775, 0.0093, 0.7132],\n",
      "        [0.5364, 0.4176, 0.0459],\n",
      "        [0.0448, 0.8152, 0.1400],\n",
      "        [0.0484, 0.0284, 0.9232],\n",
      "        [0.0189, 0.9129, 0.0682],\n",
      "        [0.0648, 0.0112, 0.9241],\n",
      "        [0.0730, 0.0172, 0.9098],\n",
      "        [0.6702, 0.2593, 0.0705],\n",
      "        [0.0931, 0.0198, 0.8871],\n",
      "        [0.0421, 0.2845, 0.6733],\n",
      "        [0.6365, 0.1189, 0.2447],\n",
      "        [0.1744, 0.0294, 0.7962],\n",
      "        [0.1196, 0.3928, 0.4877],\n",
      "        [0.0931, 0.0264, 0.8805],\n",
      "        [0.0290, 0.1457, 0.8253],\n",
      "        [0.1815, 0.0366, 0.7819],\n",
      "        [0.0461, 0.0243, 0.9296],\n",
      "        [0.0509, 0.0144, 0.9347],\n",
      "        [0.0159, 0.9444, 0.0397],\n",
      "        [0.0126, 0.8771, 0.1102],\n",
      "        [0.0625, 0.0360, 0.9014],\n",
      "        [0.1177, 0.1666, 0.7156],\n",
      "        [0.0149, 0.9519, 0.0332],\n",
      "        [0.8510, 0.0086, 0.1405],\n",
      "        [0.0280, 0.8607, 0.1113],\n",
      "        [0.0290, 0.0869, 0.8841],\n",
      "        [0.1235, 0.0162, 0.8603],\n",
      "        [0.0307, 0.7357, 0.2336],\n",
      "        [0.2261, 0.0613, 0.7126],\n",
      "        [0.1890, 0.0101, 0.8009],\n",
      "        [0.0115, 0.9708, 0.0177],\n",
      "        [0.4769, 0.0195, 0.5035],\n",
      "        [0.0229, 0.0514, 0.9258],\n",
      "        [0.2800, 0.0119, 0.7080],\n",
      "        [0.0513, 0.0246, 0.9241],\n",
      "        [0.0625, 0.0213, 0.9163],\n",
      "        [0.0408, 0.0330, 0.9262],\n",
      "        [0.1528, 0.0092, 0.8380],\n",
      "        [0.0325, 0.0384, 0.9291],\n",
      "        [0.8376, 0.0477, 0.1147],\n",
      "        [0.0554, 0.0193, 0.9254],\n",
      "        [0.0101, 0.9345, 0.0555],\n",
      "        [0.0119, 0.9163, 0.0718],\n",
      "        [0.2172, 0.0731, 0.7097],\n",
      "        [0.0805, 0.0303, 0.8892],\n",
      "        [0.0688, 0.5342, 0.3971],\n",
      "        [0.0304, 0.8521, 0.1175],\n",
      "        [0.0547, 0.0332, 0.9122],\n",
      "        [0.0627, 0.0103, 0.9270],\n",
      "        [0.1242, 0.0100, 0.8657],\n",
      "        [0.0690, 0.1199, 0.8111],\n",
      "        [0.0709, 0.7056, 0.2235],\n",
      "        [0.0411, 0.0316, 0.9272],\n",
      "        [0.9120, 0.0168, 0.0712],\n",
      "        [0.0320, 0.1008, 0.8671],\n",
      "        [0.0490, 0.0371, 0.9138],\n",
      "        [0.0899, 0.0124, 0.8977],\n",
      "        [0.0097, 0.9690, 0.0213],\n",
      "        [0.1099, 0.0139, 0.8763],\n",
      "        [0.0336, 0.0535, 0.9129],\n",
      "        [0.2698, 0.0212, 0.7090],\n",
      "        [0.6244, 0.0077, 0.3679],\n",
      "        [0.3781, 0.0133, 0.6086],\n",
      "        [0.0089, 0.9243, 0.0667],\n",
      "        [0.0291, 0.5327, 0.4382],\n",
      "        [0.0710, 0.0323, 0.8966],\n",
      "        [0.0895, 0.0125, 0.8980],\n",
      "        [0.5504, 0.2902, 0.1594],\n",
      "        [0.0219, 0.7045, 0.2736],\n",
      "        [0.1162, 0.0320, 0.8518],\n",
      "        [0.0456, 0.0281, 0.9263],\n",
      "        [0.0251, 0.4125, 0.5624],\n",
      "        [0.0642, 0.1133, 0.8224],\n",
      "        [0.1894, 0.0086, 0.8020],\n",
      "        [0.0975, 0.0458, 0.8568],\n",
      "        [0.2344, 0.0256, 0.7399],\n",
      "        [0.0495, 0.7124, 0.2381],\n",
      "        [0.0857, 0.0177, 0.8966],\n",
      "        [0.0136, 0.8498, 0.1366],\n",
      "        [0.0249, 0.0982, 0.8769],\n",
      "        [0.0982, 0.0181, 0.8837],\n",
      "        [0.0470, 0.0315, 0.9215],\n",
      "        [0.0693, 0.0869, 0.8438],\n",
      "        [0.0246, 0.4535, 0.5219],\n",
      "        [0.0470, 0.0350, 0.9180],\n",
      "        [0.0132, 0.9320, 0.0548],\n",
      "        [0.0536, 0.0247, 0.9217],\n",
      "        [0.0426, 0.0182, 0.9391],\n",
      "        [0.0331, 0.4852, 0.4817],\n",
      "        [0.0717, 0.2077, 0.7206],\n",
      "        [0.1445, 0.0141, 0.8414],\n",
      "        [0.0290, 0.1457, 0.8253],\n",
      "        [0.0877, 0.0130, 0.8993],\n",
      "        [0.0634, 0.0312, 0.9053],\n",
      "        [0.1278, 0.7752, 0.0971],\n",
      "        [0.2958, 0.0152, 0.6890],\n",
      "        [0.0501, 0.0255, 0.9244],\n",
      "        [0.0824, 0.0629, 0.8547],\n",
      "        [0.0101, 0.9612, 0.0287],\n",
      "        [0.0319, 0.8560, 0.1121],\n",
      "        [0.1054, 0.0140, 0.8805],\n",
      "        [0.0382, 0.0454, 0.9163],\n",
      "        [0.0485, 0.0266, 0.9249],\n",
      "        [0.0340, 0.0357, 0.9303],\n",
      "        [0.0268, 0.8025, 0.1707],\n",
      "        [0.0717, 0.2468, 0.6815],\n",
      "        [0.1702, 0.0130, 0.8168],\n",
      "        [0.0781, 0.0164, 0.9055],\n",
      "        [0.9080, 0.0234, 0.0686],\n",
      "        [0.0897, 0.0105, 0.8998],\n",
      "        [0.0647, 0.0300, 0.9053],\n",
      "        [0.0265, 0.0564, 0.9171],\n",
      "        [0.0269, 0.0281, 0.9449],\n",
      "        [0.0897, 0.0218, 0.8885],\n",
      "        [0.0702, 0.0124, 0.9174],\n",
      "        [0.0738, 0.0241, 0.9021],\n",
      "        [0.0124, 0.9660, 0.0217],\n",
      "        [0.8915, 0.0273, 0.0812],\n",
      "        [0.0246, 0.7855, 0.1899],\n",
      "        [0.0121, 0.9022, 0.0857],\n",
      "        [0.8659, 0.0169, 0.1172],\n",
      "        [0.1363, 0.1105, 0.7532],\n",
      "        [0.0989, 0.0193, 0.8818],\n",
      "        [0.0375, 0.0337, 0.9289],\n",
      "        [0.0294, 0.0688, 0.9017],\n",
      "        [0.1183, 0.0460, 0.8357],\n",
      "        [0.0315, 0.0263, 0.9422],\n",
      "        [0.0793, 0.0122, 0.9085],\n",
      "        [0.0348, 0.8714, 0.0938],\n",
      "        [0.0250, 0.0750, 0.9000],\n",
      "        [0.0440, 0.0591, 0.8970],\n",
      "        [0.0501, 0.1657, 0.7842],\n",
      "        [0.0175, 0.8555, 0.1270],\n",
      "        [0.6684, 0.1227, 0.2088],\n",
      "        [0.0643, 0.0167, 0.9189],\n",
      "        [0.0170, 0.3176, 0.6654],\n",
      "        [0.0436, 0.0135, 0.9429],\n",
      "        [0.0596, 0.0112, 0.9292],\n",
      "        [0.0148, 0.9433, 0.0418],\n",
      "        [0.1904, 0.0117, 0.7979],\n",
      "        [0.0393, 0.0246, 0.9361],\n",
      "        [0.0090, 0.9648, 0.0262],\n",
      "        [0.1915, 0.0080, 0.8005],\n",
      "        [0.1401, 0.0192, 0.8407],\n",
      "        [0.0345, 0.5393, 0.4262],\n",
      "        [0.0724, 0.0148, 0.9128],\n",
      "        [0.1036, 0.0126, 0.8837],\n",
      "        [0.0476, 0.0130, 0.9393],\n",
      "        [0.0115, 0.9558, 0.0328],\n",
      "        [0.1251, 0.0112, 0.8637],\n",
      "        [0.0142, 0.9608, 0.0250],\n",
      "        [0.0308, 0.3236, 0.6456],\n",
      "        [0.0517, 0.0151, 0.9332],\n",
      "        [0.0118, 0.9515, 0.0367],\n",
      "        [0.0358, 0.0501, 0.9142],\n",
      "        [0.0185, 0.9350, 0.0465],\n",
      "        [0.1205, 0.0108, 0.8687],\n",
      "        [0.0097, 0.9280, 0.0622],\n",
      "        [0.0319, 0.1552, 0.8129],\n",
      "        [0.0556, 0.6826, 0.2618],\n",
      "        [0.3554, 0.0161, 0.6285],\n",
      "        [0.0334, 0.0193, 0.9473],\n",
      "        [0.0128, 0.8805, 0.1067],\n",
      "        [0.0419, 0.0466, 0.9115],\n",
      "        [0.0336, 0.1045, 0.8619],\n",
      "        [0.0174, 0.9594, 0.0232],\n",
      "        [0.2241, 0.0976, 0.6783],\n",
      "        [0.0481, 0.0533, 0.8987],\n",
      "        [0.0468, 0.3080, 0.6452],\n",
      "        [0.0259, 0.0345, 0.9396],\n",
      "        [0.1194, 0.1752, 0.7054],\n",
      "        [0.0414, 0.0534, 0.9052],\n",
      "        [0.0648, 0.1163, 0.8189],\n",
      "        [0.0697, 0.0500, 0.8803],\n",
      "        [0.9317, 0.0343, 0.0340],\n",
      "        [0.0229, 0.0942, 0.8828],\n",
      "        [0.0341, 0.1542, 0.8118],\n",
      "        [0.0606, 0.0272, 0.9122],\n",
      "        [0.0354, 0.2588, 0.7059]], grad_fn=<SoftmaxBackward0>)\n"
     ]
    }
   ],
   "source": [
    "# Next, all that's left is to postprocess the outputs with the softmax activation function. \n",
    "# It's useful because we can't have all of the three classes have the the value of one - the maximum value. \n",
    "# It would mean that a headline is extremely positive, negative and neutral - all at the same time. \n",
    "\n",
    "# This function makes it such that all of the scores for our classes \n",
    "# (e.g. positive, negative, neutral - in our case) add up to 1 \n",
    "# and thus, can be interpreted as probabilities. Also, the larger input components will correspond to larger probabilities. \n",
    "\n",
    "# Postprocessing with softmax\n",
    "\n",
    "import torch\n",
    "\n",
    "predictions = torch.nn.functional.softmax(outputs.logits, dim=-1)\n",
    "print(predictions)"
   ]
  },
  {
   "cell_type": "code",
   "execution_count": 13,
   "metadata": {},
   "outputs": [
    {
     "data": {
      "text/plain": [
       "{0: 'positive', 1: 'negative', 2: 'neutral'}"
      ]
     },
     "execution_count": 13,
     "metadata": {},
     "output_type": "execute_result"
    }
   ],
   "source": [
    "# Model classes\n",
    "\n",
    "model.config.id2label"
   ]
  },
  {
   "cell_type": "code",
   "execution_count": 14,
   "metadata": {},
   "outputs": [
    {
     "data": {
      "text/html": [
       "<div>\n",
       "<style scoped>\n",
       "    .dataframe tbody tr th:only-of-type {\n",
       "        vertical-align: middle;\n",
       "    }\n",
       "\n",
       "    .dataframe tbody tr th {\n",
       "        vertical-align: top;\n",
       "    }\n",
       "\n",
       "    .dataframe thead th {\n",
       "        text-align: right;\n",
       "    }\n",
       "</style>\n",
       "<table border=\"1\" class=\"dataframe\">\n",
       "  <thead>\n",
       "    <tr style=\"text-align: right;\">\n",
       "      <th></th>\n",
       "      <th>Headline</th>\n",
       "      <th>Positive</th>\n",
       "      <th>Negative</th>\n",
       "      <th>Neutral</th>\n",
       "    </tr>\n",
       "  </thead>\n",
       "  <tbody>\n",
       "    <tr>\n",
       "      <th>0</th>\n",
       "      <td>Amazon Cracks Down on Scams, Fires Employees O...</td>\n",
       "      <td>0.008143</td>\n",
       "      <td>0.957139</td>\n",
       "      <td>0.034718</td>\n",
       "    </tr>\n",
       "    <tr>\n",
       "      <th>1</th>\n",
       "      <td>Bezos Pledges $2 Billion for Charity</td>\n",
       "      <td>0.277467</td>\n",
       "      <td>0.009340</td>\n",
       "      <td>0.713193</td>\n",
       "    </tr>\n",
       "    <tr>\n",
       "      <th>2</th>\n",
       "      <td>Amazon May Still See Benefits From Failed New ...</td>\n",
       "      <td>0.536448</td>\n",
       "      <td>0.417612</td>\n",
       "      <td>0.045940</td>\n",
       "    </tr>\n",
       "    <tr>\n",
       "      <th>3</th>\n",
       "      <td>Big Tech’s Welcome Mat Is Fraying</td>\n",
       "      <td>0.044774</td>\n",
       "      <td>0.815219</td>\n",
       "      <td>0.140007</td>\n",
       "    </tr>\n",
       "    <tr>\n",
       "      <th>4</th>\n",
       "      <td>Welcome to New York, Amazon—Now Go Home</td>\n",
       "      <td>0.048438</td>\n",
       "      <td>0.028382</td>\n",
       "      <td>0.923180</td>\n",
       "    </tr>\n",
       "  </tbody>\n",
       "</table>\n",
       "</div>"
      ],
      "text/plain": [
       "                                            Headline  Positive  Negative  \\\n",
       "0  Amazon Cracks Down on Scams, Fires Employees O...  0.008143  0.957139   \n",
       "1               Bezos Pledges $2 Billion for Charity  0.277467  0.009340   \n",
       "2  Amazon May Still See Benefits From Failed New ...  0.536448  0.417612   \n",
       "3                  Big Tech’s Welcome Mat Is Fraying  0.044774  0.815219   \n",
       "4            Welcome to New York, Amazon—Now Go Home  0.048438  0.028382   \n",
       "\n",
       "    Neutral  \n",
       "0  0.034718  \n",
       "1  0.713193  \n",
       "2  0.045940  \n",
       "3  0.140007  \n",
       "4  0.923180  "
      ]
     },
     "execution_count": 14,
     "metadata": {},
     "output_type": "execute_result"
    }
   ],
   "source": [
    "# All we need to do is define a Pandas DataFrame with the four relevant to us columns\n",
    "# (basically, defining a table in Python).\n",
    "\n",
    "# Formatting the results as a pandas data frame\n",
    "\n",
    "import pandas as pd\n",
    "\n",
    "#Headline #Positive #Negative #Neutral\n",
    "positive = predictions[:, 0].tolist()\n",
    "negative = predictions[:, 1].tolist()\n",
    "neutral = predictions[:, 2].tolist()\n",
    "\n",
    "table = {'Headline':headlines_list,\n",
    "         \"Positive\":positive,\n",
    "         \"Negative\":negative, \n",
    "         \"Neutral\":neutral}\n",
    "      \n",
    "df = pd.DataFrame(table, columns = [\"Headline\", \"Positive\", \"Negative\", \"Neutral\"])\n",
    "\n",
    "df.head(5)"
   ]
  },
  {
   "cell_type": "code",
   "execution_count": null,
   "metadata": {},
   "outputs": [],
   "source": [
    "# You can try comparing with lexicon-based models and see what is the difference."
   ]
  }
 ],
 "metadata": {
  "@webio": {
   "lastCommId": null,
   "lastKernelId": null
  },
  "kernelspec": {
   "display_name": "pytorch",
   "language": "python",
   "name": "pytorch"
  },
  "language_info": {
   "codemirror_mode": {
    "name": "ipython",
    "version": 3
   },
   "file_extension": ".py",
   "mimetype": "text/x-python",
   "name": "python",
   "nbconvert_exporter": "python",
   "pygments_lexer": "ipython3",
   "version": "3.9.7"
  },
  "pycharm": {
   "stem_cell": {
    "cell_type": "raw",
    "metadata": {
     "collapsed": false
    },
    "source": []
   }
  }
 },
 "nbformat": 4,
 "nbformat_minor": 1
}
